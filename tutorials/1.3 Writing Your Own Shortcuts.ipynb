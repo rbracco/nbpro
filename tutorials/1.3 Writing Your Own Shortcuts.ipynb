{
 "cells": [
  {
   "cell_type": "markdown",
   "metadata": {},
   "source": [
    "Most keyboard shortcuts in editmode are handled by codemirror which binds keys via a completely different API. Codemirror is a browser based text/code editor written in javascript.  "
   ]
  },
  {
   "cell_type": "markdown",
   "metadata": {},
   "source": [
    "***"
   ]
  },
  {
   "cell_type": "markdown",
   "metadata": {},
   "source": [
    "Control keymaps in ~/.jupyter/nbconfig/notebook.json, there are 4 sections:\n",
    "- keys.command.unbind and keys.edit.unbind (for unregistering default shortcuts\n",
    "- keys.command.bind and keys.edit.bind (for registering new shortcuts)"
   ]
  },
  {
   "cell_type": "markdown",
   "metadata": {},
   "source": [
    "It's all json so it looks like:\n",
    "```\n",
    "{\n",
    "  \"keys\": {\n",
    "    \"edit\": {\n",
    "      \"unbind\": [\n",
    "        \"Ctrl-Shift-Minus\"\n",
    "      ]\n",
    "    },\n",
    "  },\n",
    "}\n",
    "```"
   ]
  },
  {
   "cell_type": "markdown",
   "metadata": {},
   "source": [
    "```\n",
    "{\n",
    "  \"keys\": {\n",
    "    \"command\": {\n",
    "        \"bind\": {\n",
    "            \"G,G,G\":\"jupyter-notebook:restart-kernel-and-run-all-cells\"\n",
    "        }\n",
    "    }\n",
    "  },\n",
    "}\n",
    "```"
   ]
  },
  {
   "cell_type": "code",
   "execution_count": null,
   "metadata": {},
   "outputs": [],
   "source": []
  }
 ],
 "metadata": {
  "kernelspec": {
   "display_name": "Python 3",
   "language": "python",
   "name": "python3"
  }
 },
 "nbformat": 4,
 "nbformat_minor": 4
}
