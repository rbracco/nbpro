{
 "cells": [
  {
   "cell_type": "markdown",
   "metadata": {},
   "source": [
    "# Welcome to Jupyter Notebook"
   ]
  },
  {
   "cell_type": "markdown",
   "metadata": {},
   "source": [
    "This notebook is intended for students who are completely new to Jupyter Notebook, if you're comfortable with the differences between markdown/code cells and command mode and edit mode, as well as basic operations like opening a new notebook, move on to 1.1 Essential Shortcuts. "
   ]
  },
  {
   "cell_type": "markdown",
   "metadata": {},
   "source": [
    "## What is Jupyter Notebook\n",
    "\n",
    "Jupyter Notebook is an extremely flexible tool where you can run Python code piece by piece. You can also mix in text, images, links, equations, and much more, making it a great tool for teaching, learning, sharing and collaborating.\n",
    "\n",
    "The files used in Jupyter are called “notebooks” and are like an interactive lab journal for programmers, researchers, and data scientists of all backgrounds and skill levels. Jupyter is different from any other application, so it will take a little getting used to, but after a few days of playing around and practicing the tips in this book, it will start to feel natural"
   ]
  },
  {
   "cell_type": "markdown",
   "metadata": {},
   "source": [
    "## Your first experiment"
   ]
  },
  {
   "cell_type": "markdown",
   "metadata": {},
   "source": [
    "Click different areas and you'll see a blue or green border around \"cells\". Cells are bits of code or text that can be run one at a time. To run a cell, first select the cell, then click on the \"Run\" button in the toolbar \n",
    "\n",
    "![The Run Button](images/run_button.png)  "
   ]
  },
  {
   "cell_type": "markdown",
   "metadata": {},
   "source": [
    "**Try it out on the two cells below.**"
   ]
  },
  {
   "cell_type": "code",
   "execution_count": null,
   "metadata": {},
   "outputs": [
    {
     "data": {
      "text/plain": [
       "4"
      ]
     },
     "execution_count": null,
     "metadata": {},
     "output_type": "execute_result"
    }
   ],
   "source": [
    "2+2"
   ]
  },
  {
   "cell_type": "code",
   "execution_count": null,
   "metadata": {},
   "outputs": [
    {
     "name": "stdout",
     "output_type": "stream",
     "text": [
      "hello jupyter\n"
     ]
    }
   ],
   "source": [
    "print(\"hello jupyter\")"
   ]
  },
  {
   "cell_type": "markdown",
   "metadata": {},
   "source": [
    "### Your first shortcut"
   ]
  },
  {
   "cell_type": "markdown",
   "metadata": {},
   "source": [
    "Every day that I use Jupyter, I issue hundreds of different commands. If I had to stop typing, grab my mouse and go click a button somewhere on that overloaded toolbar everytime I wanted to run a command, I would never get anything done. Fortunately, Jupyter has built-in keyboard shortcuts that will allow you to do anything important. \n",
    "\n",
    "The keyboard shortcut for running a cell is holding down the Shift key, and hitting Enter. From here forward if I refer to a shortcut as Key1+Key2, it means hold down Key1 and then press Key2"
   ]
  },
  {
   "cell_type": "markdown",
   "metadata": {},
   "source": [
    "**To automatically run a cell, click on it and press shift+enter, now try this on the cell below.**"
   ]
  },
  {
   "cell_type": "code",
   "execution_count": null,
   "metadata": {},
   "outputs": [
    {
     "name": "stdout",
     "output_type": "stream",
     "text": [
      "0 squared is 0\n",
      "1 squared is 1\n",
      "2 squared is 4\n",
      "3 squared is 9\n",
      "4 squared is 16\n"
     ]
    }
   ],
   "source": [
    "for i in range(5):\n",
    "    print(i, \"squared is\", i*i)"
   ]
  },
  {
   "cell_type": "markdown",
   "metadata": {},
   "source": [
    "### Command and Edit Mode"
   ]
  },
  {
   "cell_type": "markdown",
   "metadata": {},
   "source": [
    "**When you click on a cell, it will be in one of two modes.** \n",
    "\n",
    "\n",
    ".(blue border) - Allows you to change *the whole cell or neighboring cells*\n",
    "![Empty Command Cell](images/command_cell.png)  \n",
    "\n",
    "**Or...**  \n",
    "\n",
    "<span style=\"color:green\"><strong>Edit Mode</strong></span>    (green border) - Allows you to edit things *inside* the cell\n",
    "![Empty Edit Cell](images/edit_cell.png)"
   ]
  },
  {
   "cell_type": "markdown",
   "metadata": {},
   "source": [
    "<div class=\"alert alert-block alert-warning\"><strong>Note:</strong> When you click inside the cells of formatted text in this notebook, they'll convert to the raw Markdown and HTML(explained in the next section) used to format them, if that happens and you want to go back to the pretty version, just select the cell in either mode and press shift+enter</div>"
   ]
  },
  {
   "cell_type": "markdown",
   "metadata": {},
   "source": [
    "**You can switch between these modes easily...**\n",
    "* To go from <span style=\"color:blue\"><strong>Command Mode</strong></span> to <span style=\"color:green\"><strong>Edit Mode</strong></span>, hit **Enter** or double click inside the text area (light gray) of the cell  \n",
    "\n",
    "![Switching from command to edit mode](images/command_edit_switch.gif)  \n",
    "* To go from <span style=\"color:green\"><strong>Edit Mode</strong></span> to <span style=\"color:blue\"><strong>Command Mode</strong></span>, hit **Esc** or click outside the text area of the cell (white)\n",
    "![Switching from command to edit mode](images/edit_command_switch.gif)  \n",
    "\n",
    "**To move between cells, use the arrow keys.**  \n",
    "\n",
    "You can move between cells in <span style=\"color:green\"><strong>Edit Mode</strong></span> or <span style=\"color:blue\"><strong>Command Mode</strong></span> but <span style=\"color:blue\"><strong>Command Mode</strong></span> will be faster so hit **esc** first. Note how slow it is to move between cells in edit mode.\n",
    "\n",
    "![Moving between cells in each mode](images/move_cells.gif)  "
   ]
  },
  {
   "cell_type": "markdown",
   "metadata": {},
   "source": [
    "<div class=\"alert alert-block alert-info\"><strong>Note:</strong> Jupyter is meant to be interactive so make sure you're comfortable running cells (shift-enter) and switching between Command Mode and Edit Mode before continuing</div>"
   ]
  },
  {
   "cell_type": "markdown",
   "metadata": {},
   "source": [
    "## Different Types of Cells"
   ]
  },
  {
   "cell_type": "markdown",
   "metadata": {},
   "source": [
    "There are two types of cells you'll use frequently in Jupyter\n",
    "- <strong>Code Cells</strong> - Cells for executing code\n",
    "- <strong>Markdown Cells</strong> - Cells for displaying text, images, links...etc\n",
    "\n",
    "The easiest way to tell them apart is code cells have this icon: `In [ ]:` to their left, and markdown cells don't.  \n",
    "![How to distinguish markdown and code cells](images/markdown_cell1.png)  \n",
    "Another visual clue from the above image is code cells are automatically formatted. Notice the green words in the top cell (code cell)  "
   ]
  },
  {
   "cell_type": "markdown",
   "metadata": {},
   "source": [
    "### What happens if you accidentally mix them up?"
   ]
  },
  {
   "cell_type": "markdown",
   "metadata": {},
   "source": [
    "If we accidentally write normal text or markdown in a code cell, when we run it with shift-enter, it will be treated like Python code and we will get an error.  \n",
    "![Running markdown in a code cell](images/markdown_cell2.png)  \n",
    "\n",
    "And if we accidentally write our code in a markdown cell and press shift-enter, the code won't be run, it will just treat it like plain text\n",
    "\n",
    "![Running code in a markdown cell](images/markdown_cell3.gif)  "
   ]
  },
  {
   "cell_type": "markdown",
   "metadata": {},
   "source": [
    "### Switching between code and markdown cells"
   ]
  },
  {
   "cell_type": "markdown",
   "metadata": {},
   "source": [
    "Luckily, this is a quick fix. To convert any cell to be a **Markdown Cell**, select it in <span style=\"color:blue\"><strong>Command Mode</strong></span> and press **M**. Try it out on the cell below"
   ]
  },
  {
   "cell_type": "code",
   "execution_count": null,
   "metadata": {},
   "outputs": [
    {
     "ename": "SyntaxError",
     "evalue": "invalid syntax (<ipython-input-3-23c3201be291>, line 1)",
     "output_type": "error",
     "traceback": [
      "\u001b[1;36m  File \u001b[1;32m\"<ipython-input-3-23c3201be291>\"\u001b[1;36m, line \u001b[1;32m1\u001b[0m\n\u001b[1;33m    This should be a markdown cell, not a code cell. Convert it for me with **m**\u001b[0m\n\u001b[1;37m              ^\u001b[0m\n\u001b[1;31mSyntaxError\u001b[0m\u001b[1;31m:\u001b[0m invalid syntax\n"
     ]
    }
   ],
   "source": [
    "This should be a markdown cell, not a code cell. Convert it for me with **m**"
   ]
  },
  {
   "cell_type": "markdown",
   "metadata": {},
   "source": [
    "And to convert any cell to be a **Code Cell**, select it in <span style=\"color:blue\"><strong>Command Mode</strong></span> and press **Y**. Try it out on the cell below and then run the cell."
   ]
  },
  {
   "cell_type": "markdown",
   "metadata": {},
   "source": [
    "alpha = \"abcdefghijklmnopqrstuvwxyz\"\n",
    "secret = \"zpv eje ju!\"\n",
    "for letter in secret:\n",
    "    val = alpha[alpha.index(letter)-1] if letter.isalpha() else letter\n",
    "    print(val, end=\"\")"
   ]
  },
  {
   "cell_type": "markdown",
   "metadata": {},
   "source": [
    "<div class=\"alert alert-block alert-warning\"><strong>Remember: </strong>If you try to convert a cell with <strong>M</strong> or <strong>Y</strong> and the letters 'm' or 'y' appear inside the cell, check the border color because you're probably in <span style=\"color:green\"><strong>Edit Mode</strong></span>, hit <strong>ESC</strong> to switch back to <span style=\"color:blue\"><strong>Command Mode</strong></span> and try again </div>"
   ]
  },
  {
   "cell_type": "markdown",
   "metadata": {},
   "source": [
    "#### A quick note on keyboard shortcuts NEEDS REWRITING"
   ]
  },
  {
   "cell_type": "markdown",
   "metadata": {},
   "source": [
    "**M** and **Y**, like **Shift-Enter** are keyboard shortcuts. To see a popup with all available shortcuts, press **H**. We will cover all of the useful shortcuts later in this chapter, but for now we will focus on things you can't do with shortcuts"
   ]
  },
  {
   "cell_type": "markdown",
   "metadata": {},
   "source": [
    "## Notebook Toolbar"
   ]
  },
  {
   "cell_type": "markdown",
   "metadata": {},
   "source": [
    "![Jupyter Notebook Default Toolbar](images/toolbar.png)"
   ]
  },
  {
   "cell_type": "markdown",
   "metadata": {},
   "source": [
    "The notebook toolbar is at the top of every notebook. I know it's overwhelming, but there are only a few parts you really need. We'll cover them now. You won't need to know everything here before moving on. Just take a quick look at each item, try it out yourself, and then move on to the next section"
   ]
  },
  {
   "cell_type": "markdown",
   "metadata": {},
   "source": [
    "### Creating a new notebook"
   ]
  },
  {
   "cell_type": "markdown",
   "metadata": {},
   "source": [
    "![Jupyter Notebook Default Toolbar](images/toolbar/new_notebook.gif)"
   ]
  },
  {
   "cell_type": "markdown",
   "metadata": {},
   "source": [
    "### Renaming a notebook"
   ]
  },
  {
   "cell_type": "markdown",
   "metadata": {},
   "source": [
    "![Jupyter Notebook Default Toolbar](images/toolbar/rename_notebook.gif)"
   ]
  },
  {
   "cell_type": "markdown",
   "metadata": {},
   "source": [
    "### Save Changes"
   ]
  },
  {
   "cell_type": "markdown",
   "metadata": {},
   "source": [
    "The part of the toolbar just right of the notebook title will show how long ago you last saved, and if you have unsaved changes.\n",
    "\n",
    "To save your changes, just press **S** while in <span style=\"color:blue\"><strong>Command Mode</strong></span>. "
   ]
  },
  {
   "cell_type": "markdown",
   "metadata": {},
   "source": [
    "![Jupyter Notebook Default Toolbar](images/toolbar/saving_changes.gif)"
   ]
  },
  {
   "cell_type": "markdown",
   "metadata": {},
   "source": [
    "### Checkpoints, Reverting, Autosave"
   ]
  },
  {
   "cell_type": "markdown",
   "metadata": {},
   "source": [
    "Every time you save manually, Jupyter creates a checkpoint for you. You can revert to that checkpoint at any time by selecting File->Revert to Checkpoint clicking saved checkpoint.\n",
    "\n",
    "![Revert to checkpoint](images/toolbar/revert.png)"
   ]
  },
  {
   "cell_type": "markdown",
   "metadata": {},
   "source": [
    "Jupyter automatically saves your notebooks every 120 seconds, but it will only create a checkpoint when you save manually with **S**. Checkpointing allows you to revert to the last version you manually saved, in case Jupyter autosaves something you decide you don't want"
   ]
  },
  {
   "cell_type": "markdown",
   "metadata": {},
   "source": [
    "### Kernel"
   ]
  },
  {
   "cell_type": "markdown",
   "metadata": {},
   "source": [
    "The kernel is what runs your Python code behind the scenes. When the kernel is actively running code, we say it's \"busy\" or \"active\". There are two visual indicators of a busy kernel. The first is a small circle in the right side of the toolbar\n",
    "\n",
    "![Kernel active vs inactive](images/toolbar/kernel_busy.png)"
   ]
  },
  {
   "cell_type": "markdown",
   "metadata": {},
   "source": [
    "The second indicator of a busy kernel is the cell number will appear like this until the code finishes running. \n",
    "![Busy kernel cell indicator](images/toolbar/kernel_busy2.png)\n",
    "\n",
    "The kernel only runs one code cell at a time, so if you run multiple, it will order them in a processing queue and the ![Busy kernel cell indicator](images/toolbar/kernel_busy2.png) icon will appear next to all of them. When each one finishes running, the * will change to a number."
   ]
  },
  {
   "cell_type": "markdown",
   "metadata": {},
   "source": [
    "### Interrupting the kernel"
   ]
  },
  {
   "cell_type": "markdown",
   "metadata": {},
   "source": [
    "Ctrl-C to keyboard interrupt Python doesn't work in Jupyter, instead press **I-I** (press I twice in a row) when in <span style=\"color:blue\"><strong>Command Mode</strong></span>. You should see a small box on the right side of the toolbar that says \"Interrupting Kernel\"\n",
    "\n",
    "Here's an example of me running code to make the kernel busy for 5 seconds and then pressing **I** twice to interrupt\n",
    "\n",
    "![Interrupting the kernel](images/toolbar/interrupt.gif)"
   ]
  },
  {
   "cell_type": "markdown",
   "metadata": {},
   "source": [
    "### Returning to the dashboard"
   ]
  },
  {
   "cell_type": "markdown",
   "metadata": {},
   "source": [
    "To get back to the dashboard, just click the big jupyter logo in the top left. Most of the time, you'll want to keep the current notebook open, so you can right click->open in a new tab and keep both.  \n",
    "![Returning to the dashboard](images/toolbar/goto_dashboard.gif)"
   ]
  },
  {
   "cell_type": "code",
   "execution_count": null,
   "metadata": {},
   "outputs": [],
   "source": [
    "import ipywidgets as widgets"
   ]
  },
  {
   "cell_type": "code",
   "execution_count": null,
   "metadata": {},
   "outputs": [
    {
     "data": {
      "application/vnd.jupyter.widget-view+json": {
       "model_id": "7c242ecf7f6042938c7963f3096bcdac",
       "version_major": 2,
       "version_minor": 0
      },
      "text/plain": [
       "VBox(children=(Button(description='My Button', style=ButtonStyle()), Output()))"
      ]
     },
     "metadata": {},
     "output_type": "display_data"
    }
   ],
   "source": [
    "button = widgets.Button(description='My Button')\n",
    "out = widgets.Output()\n",
    "def on_button_clicked(_):\n",
    "    # \"linking function with output\"\n",
    "    with out:\n",
    "        # what happens when we press the button\n",
    "        clear_output()\n",
    "        print(\"something happened\")\n",
    "# linking button and function together using a button's method\n",
    "button.on_click(on_button_clicked)\n",
    "# displaying button and its output together\n",
    "widgets.VBox([button,out])"
   ]
  },
  {
   "cell_type": "code",
   "execution_count": null,
   "metadata": {},
   "outputs": [],
   "source": []
  }
 ],
 "metadata": {
  "kernelspec": {
   "display_name": "Python 3",
   "language": "python",
   "name": "python3"
  }
 },
 "nbformat": 4,
 "nbformat_minor": 4
}
