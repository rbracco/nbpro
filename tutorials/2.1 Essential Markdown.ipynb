{
 "cells": [
  {
   "cell_type": "markdown",
   "metadata": {},
   "source": [
    "# Essential Markdown"
   ]
  },
  {
   "cell_type": "markdown",
   "metadata": {},
   "source": [
    "The most important thing to know is that you do not need to know markdown to successfully use Jupyter notebook. That being said it will make it easier if you want to add more than just plaintext explanations to your code. \n",
    "\n",
    "I've included below the most useful features of markdown so you can see how it works. If you want to see the markdown I used to acheive a certain effect, double click the cell to enter <span style=\"color:green\"><strong>Edit Mode</strong></span>, and then hit shift-enter to see the rendered version. \n",
    "\n",
    "This is your book, feel free to color all over it. Change the markdown and see what works and what doesn't. If you mess something up and can't fix it, just download a new copy!"
   ]
  },
  {
   "cell_type": "markdown",
   "metadata": {},
   "source": [
    "### `#`, `##`, `###`... for headings"
   ]
  },
  {
   "cell_type": "markdown",
   "metadata": {},
   "source": [
    "Starting a markdown cell with `#` will turn any text that follows into a large header, or `<h1>` for those familiar with HTML. ## will give you a slightly smaller one, all the way down to ######. Headers are essential for structuring your content and making it easier to read."
   ]
  },
  {
   "cell_type": "markdown",
   "metadata": {},
   "source": [
    "#### This is a size 4 header, I made it using #### at the cell start"
   ]
  },
  {
   "cell_type": "markdown",
   "metadata": {},
   "source": [
    "### \\` and \\`\\`\\` for formatted code"
   ]
  },
  {
   "cell_type": "markdown",
   "metadata": {},
   "source": [
    "You can include code in markdown cells (it just won't be run by the Python interpreter) with formatting, just wrap it in a single backtick for inline code like this: `x = y**2 + 4` or with 3 backticks for multiline code like this\n",
    "```\n",
    "def sum(x,y):\n",
    "    return x+y\n",
    "```\n",
    "\n",
    "You can optionally include a language (e.g. python, javascript...etc) after the backticks, and it will be formatted more nicely according to the rules of that language!\n",
    "\n",
    "```python\n",
    "def sum(x,y):\n",
    "    return x+y\n",
    "```"
   ]
  },
  {
   "cell_type": "markdown",
   "metadata": {},
   "source": [
    "### `*` for italics and `**` for bold"
   ]
  },
  {
   "cell_type": "markdown",
   "metadata": {},
   "source": [
    "Wrapping *this phrase with single asterisks* made it italic, and wrapping **this one with two asterisks** makes it bold"
   ]
  },
  {
   "cell_type": "markdown",
   "metadata": {},
   "source": [
    "### `-` for unordered lists"
   ]
  },
  {
   "cell_type": "markdown",
   "metadata": {},
   "source": [
    "Starting a line with a hyphen and space will make it into an unordered list item. Here's what you need to know  \n",
    "- This starts with a hyphen and a space\n",
    "  - You can have sublists by putting two spaces before the hyphen\n",
    "- Don't worry about retaining all of this\n",
    "- It will come naturally with time"
   ]
  },
  {
   "cell_type": "markdown",
   "metadata": {},
   "source": [
    "If you forget the space after the hyphen, it won't work"
   ]
  },
  {
   "cell_type": "markdown",
   "metadata": {},
   "source": [
    "-Item 1\n",
    "-Item 2\n",
    "-Item 3"
   ]
  },
  {
   "cell_type": "markdown",
   "metadata": {},
   "source": [
    "### `1.` for ordered lists"
   ]
  },
  {
   "cell_type": "markdown",
   "metadata": {},
   "source": [
    "This is a very cool feature. If you want an ordered list, just start all lines of that list with 1. Shouldn't it be 1. then 2. then 3.? No, markdown will automatically count for you, and then if you need to edit your list and insert something in the middle, you won't have to change all the numbers. Like unordered lists, you can have sublists by indenting two spaces.\n",
    "\n",
    "1. First\n",
    "1. Second\n",
    "1. Third\n",
    "  1. Third Sub Item 1\n",
    "  1. Third Sub Item 2\n",
    "    1. Wow another sublist?\n",
    "1. Fourth\n",
    "\n",
    "Note that you can also mix ordered and unordered lists as you please\n",
    "\n",
    "1. First\n",
    "  - unordered sublist 1\n",
    "  - unordered sublist 2\n",
    "1. Second\n",
    "  1. ordered sublist 1\n",
    "  1. ordered sublist 2"
   ]
  },
  {
   "cell_type": "markdown",
   "metadata": {},
   "source": [
    "### `[description](url)` for links"
   ]
  },
  {
   "cell_type": "markdown",
   "metadata": {},
   "source": [
    "The easiest way to get a link is just type the URL like this\n",
    "https://www.economist.com/business/2018/10/27/new-schemes-teach-the-masses-to-build-ai but the result isn't pretty. The proper way to do it is to start with a description wrapped in brackets, and a url wrapped in parenthesis. Here's an example:\n",
    "[Great article about fastai](https://www.economist.com/business/2018/10/27/new-schemes-teach-the-masses-to-build-ai)\n",
    "\n",
    "If you can remember the components, but have trouble with the order, note that it's in alphabetical order  \n",
    "**B**rackets-**D**escription-**P**arenthesis-**U**RL"
   ]
  },
  {
   "cell_type": "markdown",
   "metadata": {},
   "source": [
    "### `![description](url)` to embed images"
   ]
  },
  {
   "cell_type": "markdown",
   "metadata": {},
   "source": [
    "If you noticed, I included a few images and even a GIF earlier in this section. That's done the exact same way as links, but with a ! to tell Jupyter that it's an image to be loaded here.\n",
    "\n",
    "I can load a local image of my dog by using the filepath as the url  \n",
    "![My dog](images/carter_dog.jpg)\n",
    "\n",
    "Or I can load a remote image of someone else's dog by using the images url\n",
    "![Not my dog](https://i.pinimg.com/236x/28/bf/02/28bf027c3465da50d0763774f75b7d13.jpg)"
   ]
  },
  {
   "cell_type": "markdown",
   "metadata": {},
   "source": [
    "### `\\` to escape markdown"
   ]
  },
  {
   "cell_type": "markdown",
   "metadata": {},
   "source": [
    "When markdown adopts all these different symbols (\\*, \\`, \\#) what do we do when we want to display a real asterisk, backtick, or hashtag? We use the escape character `\\`. This means putting a backslash before that symbol so that markdown knows we don't want italics, we just want to show \\*.\n",
    "\n",
    "As long as the symbol after the backslash is part of markdown, the backslash won't appear. If in the rare case you need to actually display a backslash and then some markdown, like this \\\\\\*, you'll need to escape the backslash and the asterisk,  An easier option is just wrap it in backticks, like so `\\*` and then you won't need to escape both."
   ]
  },
  {
   "cell_type": "markdown",
   "metadata": {},
   "source": [
    "### Newlines and new paragraphs"
   ]
  },
  {
   "cell_type": "markdown",
   "metadata": {},
   "source": [
    "Just getting text to display on a new line, or getting a new paragraph to start, can be surprisingly tricky, even for those experienced in markdown. Here is what is essential to know\n",
    "\n",
    "1. To display as a new line in the same paragraph, insert two spaces then insert a newline in markdown.\n",
    "1. To display as a new paragraph, you need two newlines in markdown (hit enter twice).\n",
    "1. Inserting a single newline with no spaces does nothing\n"
   ]
  },
  {
   "cell_type": "markdown",
   "metadata": {},
   "source": [
    "This is confusing even to me, so let's see examples of each "
   ]
  },
  {
   "cell_type": "markdown",
   "metadata": {},
   "source": [
    "#### No spaces + newline"
   ]
  },
  {
   "cell_type": "markdown",
   "metadata": {},
   "source": [
    "After this I'll put no spaces, just a newline.\n",
    "Oh no! It's on the same line."
   ]
  },
  {
   "cell_type": "markdown",
   "metadata": {},
   "source": [
    "#### Two spaces + newline"
   ]
  },
  {
   "cell_type": "markdown",
   "metadata": {},
   "source": [
    "After this I'll put two spaces, then a newline.  \n",
    "Great, it works!"
   ]
  },
  {
   "cell_type": "markdown",
   "metadata": {},
   "source": [
    "#### No spaces + two newlines"
   ]
  },
  {
   "cell_type": "markdown",
   "metadata": {},
   "source": [
    "After this I'll put no spaces, but two newlines.\n",
    "\n",
    "This makes a new paragraph."
   ]
  },
  {
   "cell_type": "markdown",
   "metadata": {},
   "source": [
    "#### Two spaces + two newlines"
   ]
  },
  {
   "cell_type": "markdown",
   "metadata": {},
   "source": [
    "After this I'll put two spaces, and two newlines.  \n",
    "\n",
    "The spaces have no effect, but it still works."
   ]
  }
 ],
 "metadata": {
  "kernelspec": {
   "display_name": "Python 3",
   "language": "python",
   "name": "python3"
  }
 },
 "nbformat": 4,
 "nbformat_minor": 4
}
