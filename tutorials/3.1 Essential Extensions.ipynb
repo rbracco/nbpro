{
 "cells": [
  {
   "cell_type": "markdown",
   "metadata": {},
   "source": [
    "# Essential Extensions for Jupyter NB"
   ]
  },
  {
   "cell_type": "markdown",
   "metadata": {},
   "source": [
    "## Introduction"
   ]
  },
  {
   "cell_type": "markdown",
   "metadata": {},
   "source": [
    "#### Too long, didn't read:"
   ]
  },
  {
   "cell_type": "markdown",
   "metadata": {},
   "source": [
    "- Table of Contents 2 - Dynamic table of contents for navigating notebooks\n",
    "- Collapsible Headings - Easily collapse whole sections of your notebook\n",
    "- Snippets Menu - Menu to insert common code snippets from the most popular libraries.\n",
    "- Notify - When cell execution is taking a long time, get notified when it finishes.\n",
    "- LiveMarkdownPreview - Preview your markdown cells in real time as you type"
   ]
  },
  {
   "cell_type": "markdown",
   "metadata": {},
   "source": [
    "This notebook is meant to quickly introduce you to all the extensions. Going back and forth between the NBConfigurator tab and here, and refreshing the notebook will break the flow of that, so we are going to turn on/off all extensions introduced in the section at the same time, and then you'll only need to refresh the page once. \n",
    "\n",
    "The path to turn each extension off and on via command line can be found by clicking on the extension in the Nbextensions tab and looking at require_path. In this case it's `snippets_menu/main`  ![Where to find the path to extension](images/require_path.png)"
   ]
  },
  {
   "cell_type": "markdown",
   "metadata": {},
   "source": [
    "#### Enabling essential extensions (important)"
   ]
  },
  {
   "cell_type": "code",
   "execution_count": null,
   "metadata": {},
   "outputs": [
    {
     "name": "stderr",
     "output_type": "stream",
     "text": [
      "Enabling notebook extension collapsible_headings/main...\n",
      "      - Validating: ok\n",
      "Enabling notebook extension toc2/main...\n",
      "      - Validating: ok\n",
      "Enabling notebook extension snippets_menu/main...\n",
      "      - Validating: ok\n",
      "Enabling notebook extension livemdpreview/livemdpreview...\n",
      "      - Validating: ok\n",
      "Enabling notebook extension notify/notify...\n",
      "      - Validating: ok\n"
     ]
    }
   ],
   "source": [
    "!jupyter nbextension enable collapsible_headings/main\n",
    "!jupyter nbextension enable toc2/main\n",
    "!jupyter nbextension enable snippets_menu/main\n",
    "!jupyter nbextension enable livemdpreview/livemdpreview\n",
    "!jupyter nbextension enable notify/notify"
   ]
  },
  {
   "cell_type": "markdown",
   "metadata": {},
   "source": [
    "Note: don't refresh the page yet, as we will use the refresh as an opportunity to show how to navigate the page using the toc2 extension. "
   ]
  },
  {
   "cell_type": "markdown",
   "metadata": {},
   "source": [
    "### ToC2 (Table of Contents Extension)"
   ]
  },
  {
   "cell_type": "markdown",
   "metadata": {},
   "source": [
    "<strong>If you work in long notebooks, and especially if you do [notebook development](https://nbdev.fast.ai/), this extension will change your life. </strong>"
   ]
  },
  {
   "cell_type": "markdown",
   "metadata": {},
   "source": [
    "ToC2 provides you with a dynamically generated table of contents based on your notebook header hierarchy. You can display the table of contents as a sidebar in the space that jupyter normally wastes. This will allow you to easily jump to different sections of your notebook. Also each header will be given a number for it's section and subsection, like 2.0, 2.1, 2.1.1...etc. \n",
    "\n",
    "In a minute, when you refresh the page, you'll notice a few more options on your toolbar"
   ]
  },
  {
   "cell_type": "markdown",
   "metadata": {},
   "source": [
    "![ToC Toolbar Buttons](images/toc_toolbar.png)"
   ]
  },
  {
   "cell_type": "markdown",
   "metadata": {},
   "source": [
    "The navigate button will show you a table of contents (you may need to resize the window by dragging from the lower right corner), but my preferred option is a dedicated sidebar. You get that by clicking the toc button the red arrow is pointing at. \n",
    "\n",
    "So go ahead and refresh the page, click that button, and then come back here by finding and clicking the ToC2 (Table of Contents Extension) section in your new ToC sidebar"
   ]
  },
  {
   "cell_type": "markdown",
   "metadata": {},
   "source": [
    "#### Tips and Customization\n"
   ]
  },
  {
   "cell_type": "markdown",
   "metadata": {},
   "source": [
    "A great feature of ToC is that when you run large chunks of the notebook, it will visualize this by highlighting any sections of the ToC sidebar that have code cells, and changing their colors as they execute to show their progress."
   ]
  },
  {
   "cell_type": "markdown",
   "metadata": {},
   "source": [
    "You can customize ToC directly in the new sidebar by clicking on the settings gearbox next to \"Contents\". Below is an image with my recommended settings. I'd especially recommend \"Display ToC window at startup\", and \"Leave h1 items out of ToC\" as h1 is usually reserved for NB Titles, and will give your ToC an unnecessary layer of nesting\n",
    "![Table of contents settings](images/toc_settings.png)"
   ]
  },
  {
   "cell_type": "markdown",
   "metadata": {},
   "source": [
    "### Collapsible Headings"
   ]
  },
  {
   "cell_type": "markdown",
   "metadata": {},
   "source": [
    "<strong>Long notebooks don't have to be long anymore. If you use code folding in your favorite editor, you should be using collapsible headings in Jupyter Notebook </strong>"
   ]
  },
  {
   "cell_type": "markdown",
   "metadata": {},
   "source": [
    "The collapsible headings extension is exactly what it sounds like, it adds little arrows next to each section that, when you click, collapse that section and all it's subsections. Like code folding, it's great for staying focused on only what you need to see at that moment. It adds no new toolbar buttons, just little arrows next to your headings that will collapse everything between that heading, and the next heading of equal size. Go ahead and try it out"
   ]
  },
  {
   "cell_type": "markdown",
   "metadata": {},
   "source": [
    "![Where to click Collapsible Headings](images/collapse.jpg)"
   ]
  },
  {
   "cell_type": "markdown",
   "metadata": {},
   "source": [
    "#### Tips and Customization"
   ]
  },
  {
   "cell_type": "markdown",
   "metadata": {},
   "source": [
    "There are a few things you can do to make this even better (all these settings can be adjusted by clicking on nbconfigurator -> Collapsible Headings -> then scrolling down.\n",
    "- Keyboard shortcuts for folding/unfolding one/all sections  \n",
    "![Collapsible Headings Shortcuts](images/collapse_shortcuts1.png)  \n",
    "\n",
    "\n",
    "- Keyboard shortcuts to insert a new section below. When you hit 'b' on a collapsed cell, it will insert a new cell immediately below inside the subsection, but what you'll most often want is to insert a new header cell below the entire folded group.  \n",
    "![Collapsible Headings Shortcuts](images/collapse_shortcuts2.png)\n",
    "\n",
    "- A setting so that collapsing your Table of Contents also collapses the corresponding nb section\n",
    "![ToC and Collapsible Headings](images/collapse_toc.png)"
   ]
  },
  {
   "cell_type": "markdown",
   "metadata": {},
   "source": [
    "One more tip: Make sure you keep your headings in their own cells. Any markdown content in the same cell as the heading won't be collapsible."
   ]
  },
  {
   "cell_type": "markdown",
   "metadata": {},
   "source": [
    "### Snippets Menu"
   ]
  },
  {
   "cell_type": "markdown",
   "metadata": {},
   "source": [
    "<strong>Are you still struggling to remember code you use all the time? If these 3 lines just won't stick in your brain:</strong>  \n",
    "`%matplotlib inline`  \n",
    "`%load_ext autoreload`  \n",
    "`%autoreload 2`  \n",
    "<strong>There's an extension for that</strong>"
   ]
  },
  {
   "cell_type": "markdown",
   "metadata": {},
   "source": [
    "![Code Snippets menu item](images/snippets.png)"
   ]
  },
  {
   "cell_type": "markdown",
   "metadata": {},
   "source": [
    "Snippets Menu is an add on to the toolbar in the form of a dropdown menu with the code for common operations in the most common libraries. If opening a new window and googling the code/syntax of something is a routine part of your workflow, this extension will save you time and tabs. "
   ]
  },
  {
   "cell_type": "markdown",
   "metadata": {},
   "source": [
    "#### Tips and Customization"
   ]
  },
  {
   "cell_type": "markdown",
   "metadata": {},
   "source": [
    "Possibly the best feature of Snippets Menu is the ability to fully customize your snippets by both adding to and removing from the defaults. I am really excited to see what the community comes up with here, and am especially excited to see some experts build fastai, pytorch, Latex menus and more."
   ]
  },
  {
   "cell_type": "markdown",
   "metadata": {},
   "source": [
    "### Notify"
   ]
  },
  {
   "cell_type": "markdown",
   "metadata": {},
   "source": [
    "<strong>Do you sometimes run code that takes a while to complete, so you do something else and interrupt your attention every 1-2 minutes to come back and check on it? Notify is a better way</strong>"
   ]
  },
  {
   "cell_type": "markdown",
   "metadata": {},
   "source": [
    "Notify is an extension that starts a timer whenever jupyter is running a cell. If the execution exceeds a certain amount of time (user defined) you are notified when it's done. "
   ]
  },
  {
   "cell_type": "markdown",
   "metadata": {},
   "source": [
    "![Notify toolbar icon](images/notify.png)"
   ]
  },
  {
   "cell_type": "markdown",
   "metadata": {},
   "source": [
    "Try setting it to 5 (seconds) and then run the code in the next cell to see what happens."
   ]
  },
  {
   "cell_type": "code",
   "execution_count": null,
   "metadata": {},
   "outputs": [
    {
     "name": "stdout",
     "output_type": "stream",
     "text": [
      "1\n",
      "2\n",
      "3\n",
      "4\n",
      "5\n",
      "6\n"
     ]
    }
   ],
   "source": [
    "import time\n",
    "for i in range(6):\n",
    "    print(i+1)\n",
    "    time.sleep(1)"
   ]
  },
  {
   "cell_type": "markdown",
   "metadata": {},
   "source": [
    "This is awesome but something is missing. Notify doesn't keep me updated on the process, and estimate how long it will take to complete. It's outside the scope of this tutorial, but this is what the [fastprogress library](https://github.com/fastai/fastprogress) is for. It is extremely easy to use in 99% of cases, just import and wrap your iterable with pbar, and then get your notification from notify when it's all done. "
   ]
  },
  {
   "cell_type": "code",
   "execution_count": null,
   "metadata": {},
   "outputs": [
    {
     "data": {
      "text/html": [
       "\n",
       "    <div>\n",
       "        <style>\n",
       "            /* Turns off some styling */\n",
       "            progress {\n",
       "                /* gets rid of default border in Firefox and Opera. */\n",
       "                border: none;\n",
       "                /* Needs to be in here for Safari polyfill so background images work as expected. */\n",
       "                background-size: auto;\n",
       "            }\n",
       "            .progress-bar-interrupted, .progress-bar-interrupted::-webkit-progress-bar {\n",
       "                background: #F44336;\n",
       "            }\n",
       "        </style>\n",
       "      <progress value='110' class='' max='110', style='width:300px; height:20px; vertical-align: middle;'></progress>\n",
       "      100.00% [110/110 00:05<00:00]\n",
       "    </div>\n",
       "    "
      ],
      "text/plain": [
       "<IPython.core.display.HTML object>"
      ]
     },
     "metadata": {},
     "output_type": "display_data"
    }
   ],
   "source": [
    "# skip this cell if you don't have fastprogress, or better yet install it now by uncommenting the line below\n",
    "# !pip install fastprogress\n",
    "from fastprogress import progress_bar as pbar\n",
    "for i in pbar(range(110)): #changed from for i in range(110):\n",
    "    time.sleep(0.05)"
   ]
  },
  {
   "cell_type": "markdown",
   "metadata": {},
   "source": [
    "#### Tips and Customization"
   ]
  },
  {
   "cell_type": "code",
   "execution_count": null,
   "metadata": {},
   "outputs": [],
   "source": [
    "import time\n",
    "time.sleep(15)"
   ]
  },
  {
   "cell_type": "code",
   "execution_count": null,
   "metadata": {},
   "outputs": [],
   "source": [
    "time.sleep(65)"
   ]
  },
  {
   "cell_type": "markdown",
   "metadata": {},
   "source": [
    "### LiveMarkdownPreview"
   ]
  },
  {
   "cell_type": "markdown",
   "metadata": {},
   "source": [
    "<strong>We love jupyter because it is dynamic and interactive. Why do I have to type my markdown and then execute the cell to see what it looks like, I should be able to preview it in real time.</strong>"
   ]
  },
  {
   "cell_type": "markdown",
   "metadata": {},
   "source": [
    "This extension requires no new knowledge, it just works. You type in a markdown cell and it displays the rendered output as your readers will see it. No more repeatedly hitting shift-enter to see if you wrote the correct markdown. This plus a snippets menu for markdown and you'll be unstoppable."
   ]
  },
  {
   "cell_type": "markdown",
   "metadata": {},
   "source": [
    "#### Customization"
   ]
  },
  {
   "cell_type": "markdown",
   "metadata": {},
   "source": [
    "There are just two options for LiveMarkdownPreview in the configurator. One for how often the preview is updated (default 500ms seems perfect), and the other is whether you want the output to appear on the side, or below the cell you're working in. The default is below and I'd recommend keeping it that way, but the choice is yours."
   ]
  },
  {
   "cell_type": "markdown",
   "metadata": {},
   "source": [
    "### Disabling Essential Extensions"
   ]
  },
  {
   "cell_type": "markdown",
   "metadata": {},
   "source": [
    "My essential extensions might not be essential for you, so if you'd like to disable one or more of them, uncomment and run the relevant line, or toggle them in your nbconfigurator"
   ]
  },
  {
   "cell_type": "code",
   "execution_count": null,
   "metadata": {},
   "outputs": [],
   "source": [
    "# !jupyter nbextension disable collapsible_headings/main\n",
    "# !jupyter nbextension disable toc2/main\n",
    "# !jupyter nbextension disable snippets_menu/main\n",
    "# !jupyter nbextension disable livemdpreview/livemdpreview\n",
    "# !jupyter nbextension disable notify/notify"
   ]
  }
 ],
 "metadata": {
  "kernelspec": {
   "display_name": "Python 3",
   "language": "python",
   "name": "python3"
  }
 },
 "nbformat": 4,
 "nbformat_minor": 4
}
