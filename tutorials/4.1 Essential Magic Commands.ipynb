{
 "cells": [
  {
   "cell_type": "code",
   "execution_count": null,
   "metadata": {},
   "outputs": [],
   "source": [
    "import numpy as np"
   ]
  },
  {
   "cell_type": "markdown",
   "metadata": {},
   "source": [
    "# Essential Jupyter Magics"
   ]
  },
  {
   "cell_type": "markdown",
   "metadata": {},
   "source": [
    "Like extensions, there are a ton of magics. I have 93 line magics, and 28 cell magics available<strong>*</strong>, but only a handful are truly essential. I painstakingly combed through all 121 to bring you this notebook which only contains the best. \n",
    "\n",
    "<strong>*</strong>With a fair amount of duplicates"
   ]
  },
  {
   "cell_type": "markdown",
   "metadata": {},
   "source": [
    "## Meta-Magics"
   ]
  },
  {
   "cell_type": "markdown",
   "metadata": {},
   "source": [
    "These magics will show you a list of the available magics and what they do. They aren't the most fun magics but they are essential for discovering the fun ones. \n",
    "\n",
    "Also, `?` works for magics so if you are curious what a magic does, the best way (besides trying it) is to type `%<magicname>?` and get the docstring. Example below with %time."
   ]
  },
  {
   "cell_type": "code",
   "execution_count": null,
   "metadata": {},
   "outputs": [],
   "source": [
    "%time?"
   ]
  },
  {
   "cell_type": "markdown",
   "metadata": {},
   "source": [
    "### `%lsmagic` for seeing all available magics"
   ]
  },
  {
   "cell_type": "markdown",
   "metadata": {},
   "source": [
    "That's LS as in list. It will show you the names of all available line and cell magics  "
   ]
  },
  {
   "cell_type": "code",
   "execution_count": null,
   "metadata": {},
   "outputs": [
    {
     "data": {
      "application/json": {
       "cell": {
        "!": "OSMagics",
        "HTML": "Other",
        "SVG": "Other",
        "bash": "Other",
        "capture": "ExecutionMagics",
        "cmd": "Other",
        "debug": "ExecutionMagics",
        "file": "Other",
        "html": "DisplayMagics",
        "javascript": "DisplayMagics",
        "js": "DisplayMagics",
        "latex": "DisplayMagics",
        "markdown": "DisplayMagics",
        "perl": "Other",
        "prun": "ExecutionMagics",
        "pypy": "Other",
        "python": "Other",
        "python2": "Other",
        "python3": "Other",
        "ruby": "Other",
        "script": "ScriptMagics",
        "sh": "Other",
        "svg": "DisplayMagics",
        "sx": "OSMagics",
        "system": "OSMagics",
        "time": "ExecutionMagics",
        "timeit": "ExecutionMagics",
        "writefile": "OSMagics"
       },
       "line": {
        "alias": "OSMagics",
        "alias_magic": "BasicMagics",
        "autoawait": "AsyncMagics",
        "autocall": "AutoMagics",
        "automagic": "AutoMagics",
        "autosave": "KernelMagics",
        "bookmark": "OSMagics",
        "cd": "OSMagics",
        "clear": "KernelMagics",
        "cls": "KernelMagics",
        "colors": "BasicMagics",
        "conda": "PackagingMagics",
        "config": "ConfigMagics",
        "connect_info": "KernelMagics",
        "copy": "Other",
        "ddir": "Other",
        "debug": "ExecutionMagics",
        "dhist": "OSMagics",
        "dirs": "OSMagics",
        "doctest_mode": "BasicMagics",
        "echo": "Other",
        "ed": "Other",
        "edit": "KernelMagics",
        "env": "OSMagics",
        "gui": "BasicMagics",
        "hist": "Other",
        "history": "HistoryMagics",
        "killbgscripts": "ScriptMagics",
        "ldir": "Other",
        "less": "KernelMagics",
        "load": "CodeMagics",
        "load_ext": "ExtensionMagics",
        "loadpy": "CodeMagics",
        "logoff": "LoggingMagics",
        "logon": "LoggingMagics",
        "logstart": "LoggingMagics",
        "logstate": "LoggingMagics",
        "logstop": "LoggingMagics",
        "ls": "Other",
        "lsmagic": "BasicMagics",
        "macro": "ExecutionMagics",
        "magic": "BasicMagics",
        "matplotlib": "PylabMagics",
        "mkdir": "Other",
        "more": "KernelMagics",
        "notebook": "BasicMagics",
        "page": "BasicMagics",
        "pastebin": "CodeMagics",
        "pb": "Other",
        "pdb": "ExecutionMagics",
        "pdef": "NamespaceMagics",
        "pdoc": "NamespaceMagics",
        "pfile": "NamespaceMagics",
        "pinfo": "NamespaceMagics",
        "pinfo2": "NamespaceMagics",
        "pip": "PackagingMagics",
        "popd": "OSMagics",
        "pprint": "BasicMagics",
        "precision": "BasicMagics",
        "prun": "ExecutionMagics",
        "psearch": "NamespaceMagics",
        "psource": "NamespaceMagics",
        "pushd": "OSMagics",
        "pwd": "OSMagics",
        "pycat": "OSMagics",
        "pylab": "PylabMagics",
        "qtconsole": "KernelMagics",
        "quickref": "BasicMagics",
        "recall": "HistoryMagics",
        "rehashx": "OSMagics",
        "reload_ext": "ExtensionMagics",
        "ren": "Other",
        "rep": "Other",
        "rerun": "HistoryMagics",
        "reset": "NamespaceMagics",
        "reset_selective": "NamespaceMagics",
        "rmdir": "Other",
        "run": "ExecutionMagics",
        "save": "CodeMagics",
        "sc": "OSMagics",
        "set_env": "OSMagics",
        "store": "StoreMagics",
        "sx": "OSMagics",
        "system": "OSMagics",
        "tb": "ExecutionMagics",
        "time": "ExecutionMagics",
        "timeit": "ExecutionMagics",
        "unalias": "OSMagics",
        "unload_ext": "ExtensionMagics",
        "who": "NamespaceMagics",
        "who_ls": "NamespaceMagics",
        "whos": "NamespaceMagics",
        "xdel": "NamespaceMagics",
        "xmode": "BasicMagics"
       }
      },
      "text/plain": [
       "Available line magics:\n",
       "%alias  %alias_magic  %autoawait  %autocall  %automagic  %autosave  %bookmark  %cd  %clear  %cls  %colors  %conda  %config  %connect_info  %copy  %ddir  %debug  %dhist  %dirs  %doctest_mode  %echo  %ed  %edit  %env  %gui  %hist  %history  %killbgscripts  %ldir  %less  %load  %load_ext  %loadpy  %logoff  %logon  %logstart  %logstate  %logstop  %ls  %lsmagic  %macro  %magic  %matplotlib  %mkdir  %more  %notebook  %page  %pastebin  %pb  %pdb  %pdef  %pdoc  %pfile  %pinfo  %pinfo2  %pip  %popd  %pprint  %precision  %prun  %psearch  %psource  %pushd  %pwd  %pycat  %pylab  %qtconsole  %quickref  %recall  %rehashx  %reload_ext  %ren  %rep  %rerun  %reset  %reset_selective  %rmdir  %run  %save  %sc  %set_env  %store  %sx  %system  %tb  %time  %timeit  %unalias  %unload_ext  %who  %who_ls  %whos  %xdel  %xmode\n",
       "\n",
       "Available cell magics:\n",
       "%%!  %%HTML  %%SVG  %%bash  %%capture  %%cmd  %%debug  %%file  %%html  %%javascript  %%js  %%latex  %%markdown  %%perl  %%prun  %%pypy  %%python  %%python2  %%python3  %%ruby  %%script  %%sh  %%svg  %%sx  %%system  %%time  %%timeit  %%writefile\n",
       "\n",
       "Automagic is ON, % prefix IS NOT needed for line magics."
      ]
     },
     "execution_count": null,
     "metadata": {},
     "output_type": "execute_result"
    }
   ],
   "source": [
    "%lsmagic"
   ]
  },
  {
   "cell_type": "markdown",
   "metadata": {},
   "source": [
    "### `%quickref` for discovering Jupyter secrets \n",
    "This is your best bet for finding new magics. It opens the pager with a great guide, including a one-line summary of all magics. "
   ]
  },
  {
   "cell_type": "code",
   "execution_count": null,
   "metadata": {},
   "outputs": [],
   "source": [
    "%quickref"
   ]
  },
  {
   "cell_type": "markdown",
   "metadata": {},
   "source": [
    "### ~~`%magic`~~ for the complete documentation\n",
    "Just don't ever use this. Documentation is EXTREMELY hard to navigate with no clickable links, just a giant wall of text. Pick the magic you want to know about and use `?` instead."
   ]
  },
  {
   "cell_type": "code",
   "execution_count": null,
   "metadata": {},
   "outputs": [],
   "source": [
    "%magic"
   ]
  },
  {
   "cell_type": "code",
   "execution_count": null,
   "metadata": {},
   "outputs": [],
   "source": [
    "%magic?"
   ]
  },
  {
   "cell_type": "markdown",
   "metadata": {},
   "source": [
    "## Timing and Profiling Code"
   ]
  },
  {
   "cell_type": "markdown",
   "metadata": {},
   "source": [
    "### `%time` and `%%time` for timing code"
   ]
  },
  {
   "cell_type": "markdown",
   "metadata": {},
   "source": [
    "Probably the best known magic, time is a fun and easy way to time your code (another awesome way is the ExecuteTime extension in the extensions chapter). Just add %time to a line, or %%time to a cell and it will tell you how long that line or cell takes to execute"
   ]
  },
  {
   "cell_type": "code",
   "execution_count": null,
   "metadata": {},
   "outputs": [
    {
     "name": "stdout",
     "output_type": "stream",
     "text": [
      "Wall time: 11 ms\n"
     ]
    }
   ],
   "source": [
    "%time x = np.random.rand(100, 100, 100)"
   ]
  },
  {
   "cell_type": "code",
   "execution_count": null,
   "metadata": {},
   "outputs": [
    {
     "name": "stdout",
     "output_type": "stream",
     "text": [
      "Wall time: 102 ms\n"
     ]
    }
   ],
   "source": [
    "%%time\n",
    "x = np.random.rand(100, 100, 100)\n",
    "y = np.random.rand(100, 100, 100)\n",
    "z = x@y #matrix product of x and y"
   ]
  },
  {
   "cell_type": "markdown",
   "metadata": {},
   "source": [
    "### `%timeit` and `%%timeit` for multirun timing "
   ]
  },
  {
   "cell_type": "markdown",
   "metadata": {},
   "source": [
    "Sometimes code can take a variable amount of time, and only one run won't give you a good estimate. timeit will run the code multiple times. This is the first magic we've seen that can accept arguments. You can tell timeit to do 3 runs of 50 loops each with `%timeit -r3 -n50 <your-code-here>`. If you don't pass those argument, timeit will try to choose values that give you a both fast and accurate result, so most of the time using timeit with no args is fine. "
   ]
  },
  {
   "cell_type": "code",
   "execution_count": null,
   "metadata": {},
   "outputs": [
    {
     "name": "stdout",
     "output_type": "stream",
     "text": [
      "10.5 ms ± 260 µs per loop (mean ± std. dev. of 7 runs, 100 loops each)\n"
     ]
    }
   ],
   "source": [
    "%timeit x = np.random.rand(100, 100, 100)"
   ]
  },
  {
   "cell_type": "code",
   "execution_count": null,
   "metadata": {},
   "outputs": [
    {
     "name": "stdout",
     "output_type": "stream",
     "text": [
      "10.9 ms ± 606 µs per loop (mean ± std. dev. of 7 runs, 7 loops each)\n"
     ]
    }
   ],
   "source": [
    "%timeit -n7 x = np.random.rand(100, 100, 100)"
   ]
  },
  {
   "cell_type": "code",
   "execution_count": null,
   "metadata": {},
   "outputs": [
    {
     "name": "stdout",
     "output_type": "stream",
     "text": [
      "11.1 ms ± 368 µs per loop (mean ± std. dev. of 3 runs, 3 loops each)\n"
     ]
    }
   ],
   "source": [
    "%timeit -r3 -n3 x = np.random.rand(100, 100, 100)"
   ]
  },
  {
   "cell_type": "code",
   "execution_count": null,
   "metadata": {},
   "outputs": [
    {
     "name": "stdout",
     "output_type": "stream",
     "text": [
      "94.6 ms ± 2.19 ms per loop (mean ± std. dev. of 7 runs, 10 loops each)\n"
     ]
    }
   ],
   "source": [
    "%%timeit\n",
    "x = np.random.rand(100, 100, 100)\n",
    "y = np.random.rand(100, 100, 100)\n",
    "z = x@y #matrix product of x and y"
   ]
  },
  {
   "cell_type": "code",
   "execution_count": null,
   "metadata": {},
   "outputs": [
    {
     "name": "stdout",
     "output_type": "stream",
     "text": [
      "94.7 ms ± 1.63 ms per loop (mean ± std. dev. of 5 runs, 7 loops each)\n"
     ]
    }
   ],
   "source": [
    "%%timeit -r5 -n7\n",
    "x = np.random.rand(100, 100, 100)\n",
    "y = np.random.rand(100, 100, 100)\n",
    "z = x@y #matrix product of x and y"
   ]
  },
  {
   "cell_type": "markdown",
   "metadata": {},
   "source": [
    "### `%prun` and `%%prun` to profile your code"
   ]
  },
  {
   "cell_type": "markdown",
   "metadata": {},
   "source": [
    "Now it gets exciting because we've entered territory many of you won't know about. Profiling code to find bottlenecks should be fast and easy, and with this magic it is. Before I show you how it works, let me first show you what I was doing before, so that if you've never profiled code, you can appreciate what an improvement this is."
   ]
  },
  {
   "cell_type": "code",
   "execution_count": null,
   "metadata": {},
   "outputs": [],
   "source": [
    "def code_to_profile(dim_size=100):\n",
    "    x = np.random.rand(dim_size, dim_size, dim_size)\n",
    "    y = np.random.rand(dim_size, dim_size, dim_size)\n",
    "    z = x@y #matrix product of x and y"
   ]
  },
  {
   "cell_type": "code",
   "execution_count": null,
   "metadata": {},
   "outputs": [
    {
     "name": "stdout",
     "output_type": "stream",
     "text": [
      "         4 function calls in 0.153 seconds\n",
      "\n",
      "   Ordered by: cumulative time\n",
      "\n",
      "   ncalls  tottime  percall  cumtime  percall filename:lineno(function)\n",
      "        1    0.099    0.099    0.153    0.153 <ipython-input-17-4a5eabee5894>:1(code_to_profile)\n",
      "        2    0.054    0.027    0.054    0.027 {method 'rand' of 'mtrand.RandomState' objects}\n",
      "        1    0.000    0.000    0.000    0.000 {method 'disable' of '_lsprof.Profiler' objects}\n",
      "\n",
      "\n"
     ]
    }
   ],
   "source": [
    "# example of the hard way to do it, don't worry about this\n",
    "from cProfile import Profile\n",
    "from pstats import Stats\n",
    "profiler = Profile()\n",
    "profiler.runcall(code_to_profile)\n",
    "stats = Stats(profiler)\n",
    "stats.strip_dirs()\n",
    "stats.sort_stats('cumulative')\n",
    "stats.print_stats();"
   ]
  },
  {
   "cell_type": "markdown",
   "metadata": {},
   "source": [
    "And now for the easy way. No imports or knowledge needed. %prun will pop open a window for you with the profiler results."
   ]
  },
  {
   "cell_type": "code",
   "execution_count": null,
   "metadata": {},
   "outputs": [
    {
     "name": "stdout",
     "output_type": "stream",
     "text": [
      " "
     ]
    }
   ],
   "source": [
    "%prun code_to_profile()"
   ]
  },
  {
   "cell_type": "markdown",
   "metadata": {},
   "source": [
    "If you want it to return a pstats object so you can do more with it, add `-r` and you'll get it back as a return value. This is really good in combination with `-q` (suppresses the pop-up window), just call the `print_stats()` method to see the output. "
   ]
  },
  {
   "cell_type": "code",
   "execution_count": null,
   "metadata": {},
   "outputs": [
    {
     "name": "stdout",
     "output_type": "stream",
     "text": [
      "          6 function calls in 0.099 seconds\n",
      "\n",
      "   Ordered by: internal time\n",
      "\n",
      "   ncalls  tottime  percall  cumtime  percall filename:lineno(function)\n",
      "        1    0.074    0.074    0.096    0.096 <ipython-input-17-4a5eabee5894>:1(code_to_profile)\n",
      "        2    0.022    0.011    0.022    0.011 {method 'rand' of 'mtrand.RandomState' objects}\n",
      "        1    0.002    0.002    0.099    0.099 <string>:1(<module>)\n",
      "        1    0.000    0.000    0.099    0.099 {built-in method builtins.exec}\n",
      "        1    0.000    0.000    0.000    0.000 {method 'disable' of '_lsprof.Profiler' objects}\n",
      "\n",
      "\n"
     ]
    }
   ],
   "source": [
    "stats = %prun -r -q code_to_profile()\n",
    "stats.print_stats();"
   ]
  },
  {
   "cell_type": "markdown",
   "metadata": {},
   "source": [
    "There are lots of other useful ways to customize your calls to `%prun` and `%%prun` `-s` is especially useful and lets you pass a string (don't add quotes) that determines the order the results are displayed. For full docs, try `%prun?`"
   ]
  },
  {
   "cell_type": "code",
   "execution_count": null,
   "metadata": {},
   "outputs": [
    {
     "name": "stdout",
     "output_type": "stream",
     "text": [
      " "
     ]
    }
   ],
   "source": [
    "#sort results in cumulative mode\n",
    "%prun -s cumulative code_to_profile(200)"
   ]
  },
  {
   "cell_type": "code",
   "execution_count": null,
   "metadata": {},
   "outputs": [],
   "source": [
    "#%prun?"
   ]
  },
  {
   "cell_type": "markdown",
   "metadata": {},
   "source": [
    "### `%lprun`, `%memit`, `%mprun` for line and memory profiling"
   ]
  },
  {
   "cell_type": "markdown",
   "metadata": {},
   "source": [
    "These are both nonessential, and also require additional installs, so I won't talk about them in depth here. If line profiling or memory profiling might be helpful to you, check out [this excellent section](https://jakevdp.github.io/PythonDataScienceHandbook/01.07-timing-and-profiling.html#Line-By-Line-Profiling-with-%lprun) of [The Python Data Science Handbook](https://github.com/jakevdp/PythonDataScienceHandbook) by [Jake VanderPlas](https://jakevdp.github.io/) "
   ]
  },
  {
   "cell_type": "markdown",
   "metadata": {},
   "source": [
    "## Debugging in Jupyter"
   ]
  },
  {
   "cell_type": "markdown",
   "metadata": {},
   "source": [
    "I have to admit I coded every day for the past year without once using a debugger. Debuggers have a learning curve and it always seemed like there was something more pressing to learn. After seeing [this post from Radek Osmulski](https://twitter.com/radekosmulski/status/945739571735748609), a dedicated learner/teacher who I really look up to, I knew I had to bite the bullet and learn. Luckily it's pretty easy. \n",
    "\n",
    "In this section I'll only focus on the debugging magics, but there's a full chapter on debugging up next for those who want to jump ahead\n"
   ]
  },
  {
   "cell_type": "markdown",
   "metadata": {},
   "source": [
    "### `%debug` for debugging an error"
   ]
  },
  {
   "cell_type": "markdown",
   "metadata": {},
   "source": [
    "After any error, you can type `%debug` to jump into an interactive debugger window right here inside Jupyter. \n",
    "\n",
    "Because I know not everyone knows the debugger, I'll include an image instead of code. If you want to play with the debugger, run some code that produces an error, then type `%debug`, or jump straight into chapter 4\n",
    "![Debugger example](images/debug1.png)"
   ]
  },
  {
   "cell_type": "markdown",
   "metadata": {},
   "source": [
    "### `%pdb` for autodebug settings"
   ]
  },
  {
   "cell_type": "markdown",
   "metadata": {},
   "source": [
    "Calling %pdb will turn automatic debugging on and off. When automatic debugging is on, any error will automatically call `%debug` and a debugger window will start below the stack trace. \n",
    "\n",
    "Personally, I prefer using `%debug` to `%pdb` because 90% of errors are simple and don't need full debugging, so having the notebook automatically jump into the debugger, forcing me to hit q to exit, just wastes time. "
   ]
  },
  {
   "cell_type": "code",
   "execution_count": null,
   "metadata": {},
   "outputs": [
    {
     "name": "stdout",
     "output_type": "stream",
     "text": [
      "Automatic pdb calling has been turned ON\n"
     ]
    }
   ],
   "source": [
    "#run all 3 cells to turn autodebug on, off, and back on again\n",
    "%pdb"
   ]
  },
  {
   "cell_type": "code",
   "execution_count": null,
   "metadata": {},
   "outputs": [
    {
     "name": "stdout",
     "output_type": "stream",
     "text": [
      "Automatic pdb calling has been turned OFF\n"
     ]
    }
   ],
   "source": [
    "%pdb"
   ]
  },
  {
   "cell_type": "code",
   "execution_count": null,
   "metadata": {},
   "outputs": [
    {
     "name": "stdout",
     "output_type": "stream",
     "text": [
      "Automatic pdb calling has been turned ON\n"
     ]
    }
   ],
   "source": [
    "%pdb"
   ]
  },
  {
   "cell_type": "code",
   "execution_count": null,
   "metadata": {},
   "outputs": [],
   "source": []
  },
  {
   "cell_type": "code",
   "execution_count": null,
   "metadata": {},
   "outputs": [],
   "source": []
  },
  {
   "cell_type": "markdown",
   "metadata": {},
   "source": [
    "### NEEDS WORK: DEBUGGING W/O AN ERROR"
   ]
  },
  {
   "cell_type": "markdown",
   "metadata": {},
   "source": [
    "Now, not every bug is an error, so we also need the ability to jump into the code when it is giving us an unexpected result that doesn't cause the program to raise any errors. `%debug` also provides us with this ability via breakpoints."
   ]
  },
  {
   "cell_type": "code",
   "execution_count": null,
   "metadata": {},
   "outputs": [],
   "source": [
    "%debug?"
   ]
  },
  {
   "cell_type": "code",
   "execution_count": null,
   "metadata": {},
   "outputs": [],
   "source": [
    "def code_to_debug():\n",
    "    for i in range(20):\n",
    "        if i < 10:\n",
    "            print(i+10)"
   ]
  },
  {
   "cell_type": "code",
   "execution_count": null,
   "metadata": {},
   "outputs": [
    {
     "name": "stdout",
     "output_type": "stream",
     "text": [
      "NOTE: Enter 'c' at the ipdb>  prompt to continue execution.\n",
      "None\n",
      "> \u001b[1;32m<string>\u001b[0m(1)\u001b[0;36m<module>\u001b[1;34m()\u001b[0m\n",
      "\n",
      "ipdb> c\n",
      "> <ipython-input-40-30aa0293b954>(4)code_to_debug()\n",
      "-> if i < 10:\n",
      "(Pdb) c\n",
      "10\n",
      "> <ipython-input-40-30aa0293b954>(3)code_to_debug()\n",
      "-> breakpoint()\n",
      "(Pdb) c\n",
      "11\n",
      "> <ipython-input-40-30aa0293b954>(4)code_to_debug()\n",
      "-> if i < 10:\n",
      "(Pdb) c\n",
      "12\n",
      "> <ipython-input-40-30aa0293b954>(3)code_to_debug()\n",
      "-> breakpoint()\n",
      "(Pdb) i\n",
      "3\n",
      "(Pdb) c\n",
      "13\n",
      "> <ipython-input-40-30aa0293b954>(4)code_to_debug()\n",
      "-> if i < 10:\n",
      "(Pdb) n\n",
      "> <ipython-input-40-30aa0293b954>(5)code_to_debug()\n",
      "-> print(i+10)\n",
      "(Pdb) n\n",
      "14\n",
      "> <ipython-input-40-30aa0293b954>(2)code_to_debug()\n",
      "-> for i in range(20):\n",
      "(Pdb) n\n",
      "> <ipython-input-40-30aa0293b954>(3)code_to_debug()\n",
      "-> breakpoint()\n",
      "(Pdb) c\n",
      "> <ipython-input-40-30aa0293b954>(4)code_to_debug()\n",
      "-> if i < 10:\n",
      "(Pdb) c\n",
      "15\n",
      "> <ipython-input-40-30aa0293b954>(3)code_to_debug()\n",
      "-> breakpoint()\n",
      "(Pdb) c\n",
      "16\n",
      "> <ipython-input-40-30aa0293b954>(4)code_to_debug()\n",
      "-> if i < 10:\n",
      "(Pdb) c\n",
      "17\n",
      "> <ipython-input-40-30aa0293b954>(3)code_to_debug()\n",
      "-> breakpoint()\n",
      "(Pdb) q\n"
     ]
    }
   ],
   "source": [
    "%debug code_to_debug()"
   ]
  },
  {
   "cell_type": "markdown",
   "metadata": {},
   "source": [
    "## Setting up Notebooks"
   ]
  },
  {
   "cell_type": "markdown",
   "metadata": {},
   "source": [
    "These are a few extremely important commands that we covered in a previous section, but I want to make sure nobody misses."
   ]
  },
  {
   "cell_type": "markdown",
   "metadata": {},
   "source": [
    "### `%matplotlib inline` for displaying charts in Jupyter"
   ]
  },
  {
   "cell_type": "markdown",
   "metadata": {},
   "source": [
    "### `%load_ext autoreload` for automatically reloading external libraries"
   ]
  },
  {
   "cell_type": "code",
   "execution_count": null,
   "metadata": {},
   "outputs": [],
   "source": []
  }
 ],
 "metadata": {
  "kernelspec": {
   "display_name": "Python 3",
   "language": "python",
   "name": "python3"
  }
 },
 "nbformat": 4,
 "nbformat_minor": 4
}
