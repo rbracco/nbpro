{
 "cells": [
  {
   "cell_type": "markdown",
   "metadata": {},
   "source": [
    "## Magics aren't magic"
   ]
  },
  {
   "cell_type": "markdown",
   "metadata": {},
   "source": [
    "Magics are cool, magics can be complicated, but magics aren't magic. They are python code that jupyter let's you shortcut with a `%` or `%%` symbol. The major difference between a magic and an alias, is that the magic gets special access to the notebook state. "
   ]
  },
  {
   "cell_type": "code",
   "execution_count": null,
   "metadata": {},
   "outputs": [],
   "source": [
    "from IPython.core.magic import register_line_magic, register_cell_magic, needs_local_scope\n",
    "from IPython.core.magic import register_line_cell_magic"
   ]
  },
  {
   "cell_type": "markdown",
   "metadata": {},
   "source": [
    "Source code for individual magics is stored in \n",
    "[this section of the IPython Github](https://github.com/ipython/ipython/blob/master/IPython/core/magics)"
   ]
  },
  {
   "cell_type": "markdown",
   "metadata": {},
   "source": [
    "## The simplest custom line magic"
   ]
  },
  {
   "cell_type": "markdown",
   "metadata": {},
   "source": [
    "### NOTE: Get better example and point out the line doesnt need to be valid"
   ]
  },
  {
   "cell_type": "markdown",
   "metadata": {},
   "source": [
    "`@register_line_magic` is a python decorator that tells jupyter to make `funcname` available as `%funcname`, or if the decorator is passed a custom name, then %customname will call the magic.\n",
    "\n",
    "First we make a normal function that takes a string and reverses the word order. "
   ]
  },
  {
   "cell_type": "code",
   "execution_count": null,
   "metadata": {},
   "outputs": [],
   "source": [
    "def revline(line):\n",
    "    return \" \".join(line.split()[::-1])"
   ]
  },
  {
   "cell_type": "code",
   "execution_count": null,
   "metadata": {},
   "outputs": [
    {
     "data": {
      "text/plain": [
       "'3 + 4b = x'"
      ]
     },
     "execution_count": null,
     "metadata": {},
     "output_type": "execute_result"
    }
   ],
   "source": [
    "revline(\"x = 4b + 3\")"
   ]
  },
  {
   "cell_type": "code",
   "execution_count": null,
   "metadata": {},
   "outputs": [
    {
     "name": "stderr",
     "output_type": "stream",
     "text": [
      "UsageError: Line magic function `%revline` not found.\n"
     ]
    }
   ],
   "source": [
    "##Oops not a magic yet, let's rewrite it with the decorator above\n",
    "%revline"
   ]
  },
  {
   "cell_type": "code",
   "execution_count": null,
   "metadata": {},
   "outputs": [],
   "source": [
    "@register_line_magic\n",
    "def revline(line):\n",
    "    return \" \".join(line.split()[::-1])"
   ]
  },
  {
   "cell_type": "code",
   "execution_count": null,
   "metadata": {},
   "outputs": [
    {
     "data": {
      "text/plain": [
       "'3 + 4b = x'"
      ]
     },
     "execution_count": null,
     "metadata": {},
     "output_type": "execute_result"
    }
   ],
   "source": [
    "#underlying function still works\n",
    "revline(\"x = 4b + 3\")"
   ]
  },
  {
   "cell_type": "code",
   "execution_count": null,
   "metadata": {},
   "outputs": [
    {
     "data": {
      "text/plain": [
       "'3 + 4b = x'"
      ]
     },
     "execution_count": null,
     "metadata": {},
     "output_type": "execute_result"
    }
   ],
   "source": [
    "# using the magic we don't need quotes anymore, if we put them in theyll be considered part of the line\n",
    "%revline x = 4b + 3"
   ]
  },
  {
   "cell_type": "code",
   "execution_count": null,
   "metadata": {},
   "outputs": [],
   "source": [
    "#name it something different than the function\n",
    "@register_line_magic(\"rev\")\n",
    "def revline(line):\n",
    "    return \" \".join(line.split()[::-1])"
   ]
  },
  {
   "cell_type": "code",
   "execution_count": null,
   "metadata": {},
   "outputs": [
    {
     "data": {
      "text/plain": [
       "'3 + 4b = x'"
      ]
     },
     "execution_count": null,
     "metadata": {},
     "output_type": "execute_result"
    }
   ],
   "source": [
    "%rev x = 4b + 3"
   ]
  },
  {
   "cell_type": "markdown",
   "metadata": {},
   "source": [
    "That's it. Congratulations, you've made your own magic, but right now it's no better than an alias"
   ]
  },
  {
   "cell_type": "markdown",
   "metadata": {},
   "source": [
    "## Getting access to notebook state"
   ]
  },
  {
   "cell_type": "markdown",
   "metadata": {},
   "source": [
    "Use the `@needs_local_scope` decorator to get access to the notebook namespace. It does this by passing in a new argument, `local_ns` to our function, so we will need to start accepting that. Let's write a new magic to accept `local_ns`, and then print out some info so we can see what we're getting\n",
    "\n",
    "Note that the order of the decorators does matter, and registering the magic should always be the outermost part."
   ]
  },
  {
   "cell_type": "code",
   "execution_count": null,
   "metadata": {},
   "outputs": [],
   "source": [
    "@register_line_magic(\"mag\")\n",
    "@needs_local_scope\n",
    "def some_magic(line, local_ns):\n",
    "    print(\"Namespace is stored as a\", type(local_ns))\n",
    "    keys = [k for k in local_ns.keys() if not k.startswith('_')]\n",
    "    print(f\"There are {len(keys)} keys you can access\")\n",
    "    print(\"They are...\\n\", keys)"
   ]
  },
  {
   "cell_type": "code",
   "execution_count": null,
   "metadata": {},
   "outputs": [
    {
     "name": "stdout",
     "output_type": "stream",
     "text": [
      "Namespace is stored as a <class 'dict'>\n",
      "There are 11 keys you can access\n",
      "They are...\n",
      " ['In', 'Out', 'get_ipython', 'exit', 'quit', 'revline', 'register_line_magic', 'register_cell_magic', 'needs_local_scope', 'register_line_cell_magic', 'some_magic']\n"
     ]
    }
   ],
   "source": [
    "# We still have to pass in a line, but we aren't using it so let's use empty quotes\n",
    "%mag \"\""
   ]
  },
  {
   "cell_type": "markdown",
   "metadata": {},
   "source": [
    "### The most useful pieces of notebook state"
   ]
  },
  {
   "cell_type": "markdown",
   "metadata": {},
   "source": [
    "#### get_ipython() - Returns a reference to the current InteractiveShell"
   ]
  },
  {
   "cell_type": "markdown",
   "metadata": {},
   "source": [
    "This will give you access to the Notebook object and let you interact with it in really cool ways. This is the part that can make magics seem like magic"
   ]
  },
  {
   "cell_type": "code",
   "execution_count": null,
   "metadata": {},
   "outputs": [],
   "source": [
    "ip = get_ipython()"
   ]
  },
  {
   "cell_type": "code",
   "execution_count": null,
   "metadata": {},
   "outputs": [],
   "source": [
    "ip.set_next_input(\"A cell magically appears\")"
   ]
  },
  {
   "cell_type": "code",
   "execution_count": null,
   "metadata": {},
   "outputs": [],
   "source": [
    "A cell magically appears"
   ]
  },
  {
   "cell_type": "code",
   "execution_count": null,
   "metadata": {},
   "outputs": [
    {
     "name": "stdout",
     "output_type": "stream",
     "text": [
      "Was that cool or what? yes\n"
     ]
    },
    {
     "data": {
      "text/plain": [
       "True"
      ]
     },
     "execution_count": null,
     "metadata": {},
     "output_type": "execute_result"
    }
   ],
   "source": [
    "ip.ask_yes_no(\"Was that cool or what?\")"
   ]
  },
  {
   "cell_type": "markdown",
   "metadata": {},
   "source": [
    "#### `In` - A list of commands so far"
   ]
  },
  {
   "cell_type": "code",
   "execution_count": null,
   "metadata": {},
   "outputs": [
    {
     "data": {
      "text/plain": [
       "['',\n",
       " 'def revline(line):\\n    return \" \".join(line.split()[::-1])',\n",
       " 'revline(\"x = 4b + 3\")',\n",
       " \"##Oops not a magic yet, let's rewrite it with the decorator above\\nget_ipython().run_line_magic('revline', '')\",\n",
       " '@register_line_magic\\ndef revline(line):\\n    return \" \".join(line.split()[::-1])',\n",
       " 'from IPython.core.magic import register_line_magic, register_cell_magic, needs_local_scope\\nfrom IPython.core.magic import register_line_cell_magic',\n",
       " 'def revline(line):\\n    return \" \".join(line.split()[::-1])',\n",
       " 'revline(\"x = 4b + 3\")',\n",
       " \"##Oops not a magic yet, let's rewrite it with the decorator above\\nget_ipython().run_line_magic('revline', '')\",\n",
       " '@register_line_magic\\ndef revline(line):\\n    return \" \".join(line.split()[::-1])',\n",
       " '#underlying function still works\\nrevline(\"x = 4b + 3\")',\n",
       " \"# using the magic we don't need quotes anymore, if we put them in theyll be considered part of the line\\nget_ipython().run_line_magic('revline', 'x = 4b + 3')\",\n",
       " '#name it something different than the function\\n@register_line_magic(\"rev\")\\ndef revline(line):\\n    return \" \".join(line.split()[::-1])',\n",
       " \"get_ipython().run_line_magic('rev', 'x = 4b + 3')\",\n",
       " '@register_line_magic(\"mag\")\\n@needs_local_scope\\ndef some_magic(line, local_ns):\\n    print(\"Namespace is stored as a\", type(local_ns))\\n    keys = [k for k in local_ns.keys() if not k.startswith(\\'_\\')]\\n    print(f\"There are {len(keys)} keys you can access\")\\n    print(\"They are...\\\\n\", keys)',\n",
       " '# We still have to pass in a line, but we aren\\'t using it so let\\'s use empty quotes\\nget_ipython().run_line_magic(\\'mag\\', \\'\"\"\\')',\n",
       " 'ip = get_ipython()',\n",
       " 'ip.set_next_input(\"A cell magically appears\")',\n",
       " 'ip.ask_yes_no(\"Was that cool or what?\")',\n",
       " 'In']"
      ]
     },
     "execution_count": null,
     "metadata": {},
     "output_type": "execute_result"
    }
   ],
   "source": [
    "In"
   ]
  },
  {
   "cell_type": "markdown",
   "metadata": {},
   "source": [
    "Access like a normal list, `In[0]` is the first command that was issued this session, `In[4]` is the fifth, `In[-1]` is the most recent"
   ]
  },
  {
   "cell_type": "markdown",
   "metadata": {},
   "source": [
    "#### `Out` - A dict containing command indexes and their outputs"
   ]
  },
  {
   "cell_type": "markdown",
   "metadata": {},
   "source": [
    "Out is a dictionary where each key is the index of a command that has been run during the session, and values are the output of that command. This is confusing so let's unpack it a bit.\n",
    "\n",
    "![Explaining the Out dict](images/magicOut.png)"
   ]
  },
  {
   "cell_type": "code",
   "execution_count": null,
   "metadata": {},
   "outputs": [
    {
     "data": {
      "text/plain": [
       "{2: '3 + 4b = x',\n",
       " 7: '3 + 4b = x',\n",
       " 10: '3 + 4b = x',\n",
       " 11: '3 + 4b = x',\n",
       " 13: '3 + 4b = x',\n",
       " 18: True,\n",
       " 19: ['',\n",
       "  'def revline(line):\\n    return \" \".join(line.split()[::-1])',\n",
       "  'revline(\"x = 4b + 3\")',\n",
       "  \"##Oops not a magic yet, let's rewrite it with the decorator above\\nget_ipython().run_line_magic('revline', '')\",\n",
       "  '@register_line_magic\\ndef revline(line):\\n    return \" \".join(line.split()[::-1])',\n",
       "  'from IPython.core.magic import register_line_magic, register_cell_magic, needs_local_scope\\nfrom IPython.core.magic import register_line_cell_magic',\n",
       "  'def revline(line):\\n    return \" \".join(line.split()[::-1])',\n",
       "  'revline(\"x = 4b + 3\")',\n",
       "  \"##Oops not a magic yet, let's rewrite it with the decorator above\\nget_ipython().run_line_magic('revline', '')\",\n",
       "  '@register_line_magic\\ndef revline(line):\\n    return \" \".join(line.split()[::-1])',\n",
       "  '#underlying function still works\\nrevline(\"x = 4b + 3\")',\n",
       "  \"# using the magic we don't need quotes anymore, if we put them in theyll be considered part of the line\\nget_ipython().run_line_magic('revline', 'x = 4b + 3')\",\n",
       "  '#name it something different than the function\\n@register_line_magic(\"rev\")\\ndef revline(line):\\n    return \" \".join(line.split()[::-1])',\n",
       "  \"get_ipython().run_line_magic('rev', 'x = 4b + 3')\",\n",
       "  '@register_line_magic(\"mag\")\\n@needs_local_scope\\ndef some_magic(line, local_ns):\\n    print(\"Namespace is stored as a\", type(local_ns))\\n    keys = [k for k in local_ns.keys() if not k.startswith(\\'_\\')]\\n    print(f\"There are {len(keys)} keys you can access\")\\n    print(\"They are...\\\\n\", keys)',\n",
       "  '# We still have to pass in a line, but we aren\\'t using it so let\\'s use empty quotes\\nget_ipython().run_line_magic(\\'mag\\', \\'\"\"\\')',\n",
       "  'ip = get_ipython()',\n",
       "  'ip.set_next_input(\"A cell magically appears\")',\n",
       "  'ip.ask_yes_no(\"Was that cool or what?\")',\n",
       "  'In',\n",
       "  'Out']}"
      ]
     },
     "execution_count": null,
     "metadata": {},
     "output_type": "execute_result"
    }
   ],
   "source": [
    "Out"
   ]
  },
  {
   "cell_type": "markdown",
   "metadata": {},
   "source": [
    "## A real magic in 7 lines: writing `%recall` from scratch"
   ]
  },
  {
   "cell_type": "markdown",
   "metadata": {},
   "source": [
    "Let's quickly reinvent the %recall magic, that we saw in the \"might be useful\" section. \n",
    "\n",
    "Before we do, I want to bring your attention to how magic this magic seemed before. You type `%recall 22` and it pops into existence a cell with the 22nd command you issued this session. \n",
    "\n",
    "Now let's see it from a new perspective, as pretty straightforward Python, now that we know how to access `In` and the notebook object via `get_ipython()`"
   ]
  },
  {
   "cell_type": "code",
   "execution_count": null,
   "metadata": {},
   "outputs": [],
   "source": [
    "@register_line_magic(\"rec\")\n",
    "@needs_local_scope\n",
    "def recall_magic(num, local_ns):\n",
    "    commands = local_ns[\"In\"]\n",
    "    command_to_recall = commands[int(num)]\n",
    "    ip = get_ipython()\n",
    "    ip.set_next_input(command_to_recall)"
   ]
  },
  {
   "cell_type": "code",
   "execution_count": null,
   "metadata": {},
   "outputs": [],
   "source": [
    "%rec 10"
   ]
  },
  {
   "cell_type": "code",
   "execution_count": null,
   "metadata": {},
   "outputs": [],
   "source": [
    "#underlying function still works\n",
    "revline(\"x = 4b + 3\")"
   ]
  },
  {
   "cell_type": "markdown",
   "metadata": {},
   "source": [
    "If you want to be a stickler, `%recall` also allows you to pass no arg, and returns a list of all commands from the session. This is an easy fix by changing...  \n",
    "\n",
    "`command_to_recall = commands[int(num)]`  \n",
    "\n",
    "to  \n",
    "\n",
    "`command_to_recall = str(commands) if not num else commands[int(num)]` \n",
    "\n",
    "but I omitted it to simplify the code"
   ]
  },
  {
   "cell_type": "markdown",
   "metadata": {},
   "source": [
    "## Our First Cell Magic"
   ]
  },
  {
   "cell_type": "markdown",
   "metadata": {},
   "source": [
    "To create a cell magic, just change `@register_line_magic` to be `@register_cell_magic`, and alter your function to take two arguments, `line` and `cell`. This naming is slightly confusing as this is only a cell magic, not a line and cell magic (which we'll see next), so `line` is really just the arguments to the magic"
   ]
  },
  {
   "cell_type": "code",
   "execution_count": null,
   "metadata": {},
   "outputs": [],
   "source": [
    "@register_cell_magic\n",
    "def cell_magic(line, cell):\n",
    "    print(f\"Line is of type {type(line)} and contains '{line}'\")\n",
    "    print(f\"Cell is of type {type(cell)} and contains '{cell}'\")"
   ]
  },
  {
   "cell_type": "code",
   "execution_count": null,
   "metadata": {},
   "outputs": [
    {
     "name": "stdout",
     "output_type": "stream",
     "text": [
      "Line is of type <class 'str'> and contains 'argument1 argument2'\n",
      "Cell is of type <class 'str'> and contains 'Line 1\n",
      "Line 2\n",
      "'\n"
     ]
    }
   ],
   "source": [
    "%%cell_magic argument1 argument2\n",
    "Line 1\n",
    "Line 2"
   ]
  },
  {
   "cell_type": "markdown",
   "metadata": {},
   "source": [
    "### Cell magic from scratch: Building a line, word, and char counter"
   ]
  },
  {
   "cell_type": "markdown",
   "metadata": {},
   "source": [
    "Here's a not all that useful example cell magic, but it does something we couldn't do before, counts the contents of the cell"
   ]
  },
  {
   "cell_type": "code",
   "execution_count": null,
   "metadata": {},
   "outputs": [],
   "source": [
    "@register_cell_magic(\"countit\")\n",
    "def cell_counter(line, cell):\n",
    "    lns = cell.strip().split('\\n')\n",
    "    nlines = len(lns)\n",
    "    nwords = sum([len(ln.strip().split(' ')) for ln in lns])\n",
    "    nchars = len(cell)\n",
    "    print(f\"Lines: {nlines}\\nWords: {nwords}\\nChars: {nchars}\")"
   ]
  },
  {
   "cell_type": "code",
   "execution_count": null,
   "metadata": {},
   "outputs": [
    {
     "name": "stdout",
     "output_type": "stream",
     "text": [
      "Lines: 2\n",
      "Words: 5\n",
      "Chars: 33\n"
     ]
    }
   ],
   "source": [
    "%%countit\n",
    "for i in range(36):\n",
    "    print(i)"
   ]
  },
  {
   "cell_type": "code",
   "execution_count": null,
   "metadata": {},
   "outputs": [
    {
     "name": "stdout",
     "output_type": "stream",
     "text": [
      "Lines: 2\n",
      "Words: 18\n",
      "Chars: 88\n"
     ]
    }
   ],
   "source": [
    "%%countit\n",
    "this is not code!\n",
    "    How in the world is this not raising an error in a code cell?!?!?"
   ]
  },
  {
   "cell_type": "markdown",
   "metadata": {},
   "source": [
    "## Line and Cell Magic at the same time: EXAMPLE NEEDED"
   ]
  },
  {
   "cell_type": "code",
   "execution_count": null,
   "metadata": {},
   "outputs": [],
   "source": [
    "@register_line_cell_magic\n",
    "def lcmagic(line, cell=None):\n",
    "    if cell is None:\n",
    "        print(\"Called as line magic\")\n",
    "        return line\n",
    "    else:\n",
    "        print(\"Called as cell magic\")\n",
    "        return line, cell"
   ]
  },
  {
   "cell_type": "markdown",
   "metadata": {},
   "source": [
    "## Storing Magic State between calls by creating a class "
   ]
  },
  {
   "cell_type": "markdown",
   "metadata": {},
   "source": [
    "You can also create line, cell, and line+cell magics by inheriting from the `Magics` class, and putting in a few decorators. There are two cases that this appears to be better than what we did above\n",
    "\n",
    "1. You want to have some type of state.\n",
    "2. You are creating multiple magics that logically go together. This is how the [IPython Magics Github](https://github.com/ipython/ipython/tree/master/IPython/core/magics) is written. Logging magics are in logging.py in a class called `LoggingMagics`, timing/profiling are in execution.py in the `ExecutionMagics` class"
   ]
  },
  {
   "cell_type": "code",
   "execution_count": null,
   "metadata": {},
   "outputs": [],
   "source": [
    "from IPython.core import magic_arguments\n",
    "from IPython.core.magic import line_magic, cell_magic, line_cell_magic, Magics, magics_class\n",
    " \n",
    "@magics_class\n",
    "class TestMagics(Magics):\n",
    "    @cell_magic\n",
    "    def hello(self, line='', cell=None):\n",
    "        print('hello ' + cell)\n",
    " \n",
    "    @line_magic\n",
    "    def hi(self, line):\n",
    "        print(self.shell)\n",
    "        print('hi ' + line)\n",
    " \n",
    "ip = get_ipython()\n",
    "ip.register_magics(TestMagics)"
   ]
  },
  {
   "cell_type": "code",
   "execution_count": null,
   "metadata": {},
   "outputs": [
    {
     "name": "stdout",
     "output_type": "stream",
     "text": [
      "<ipykernel.zmqshell.ZMQInteractiveShell object at 0x00000159FF707CC0>\n",
      "hi jupyter\n"
     ]
    }
   ],
   "source": [
    "%hi jupyter"
   ]
  },
  {
   "cell_type": "markdown",
   "metadata": {},
   "source": [
    "\n",
    "### Best way to register magics to be always available"
   ]
  },
  {
   "cell_type": "markdown",
   "metadata": {},
   "source": [
    "https://stackoverflow.com/a/34655190/5042053"
   ]
  },
  {
   "cell_type": "code",
   "execution_count": null,
   "metadata": {},
   "outputs": [],
   "source": []
  }
 ],
 "metadata": {
  "kernelspec": {
   "display_name": "Python 3",
   "language": "python",
   "name": "python3"
  }
 },
 "nbformat": 4,
 "nbformat_minor": 4
}
