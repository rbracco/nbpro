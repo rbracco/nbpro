{
 "cells": [
  {
   "cell_type": "markdown",
   "metadata": {},
   "source": [
    "## Intro to Magics"
   ]
  },
  {
   "cell_type": "markdown",
   "metadata": {},
   "source": [
    "Magics are special jupyter commands that allow you to add functionality to your code. There are two types of magics:\n",
    "- **Line Magics** which start with % and apply to only one line of code  \n",
    "- **Cell Magics** which Start with %% and apply to the entire cell. "
   ]
  },
  {
   "cell_type": "markdown",
   "metadata": {},
   "source": [
    "Here are some basic examples using `%time` (line magic) and `%%time` (cell magic) to time some numpy code. "
   ]
  },
  {
   "cell_type": "code",
   "execution_count": null,
   "metadata": {},
   "outputs": [
    {
     "name": "stdout",
     "output_type": "stream",
     "text": [
      "Wall time: 12 ms\n"
     ]
    }
   ],
   "source": [
    "import numpy as np\n",
    "# example line magic that times generation of a random 100x100x100 numpy array\n",
    "%time x = np.random.rand(100, 100, 100)"
   ]
  },
  {
   "cell_type": "markdown",
   "metadata": {},
   "source": [
    "The following is incorrect because there is no code on the line with `%time`, so it returns in 0ns because there's nothing to run.\n",
    "![incorrect line magic](images/magic_wrong1.png)"
   ]
  },
  {
   "cell_type": "code",
   "execution_count": null,
   "metadata": {},
   "outputs": [
    {
     "name": "stdout",
     "output_type": "stream",
     "text": [
      "Wall time: 12 ms\n"
     ]
    }
   ],
   "source": [
    "%%time\n",
    "x = np.random.rand(100, 100, 100)\n",
    "y = np.random.rand(100, 100, 100)\n",
    "z = x@y #matrix product of x and y"
   ]
  },
  {
   "cell_type": "markdown",
   "metadata": {},
   "source": [
    "Cell magics must be the very first thing in the cell including comments, or they won't work. This comment breaks our cell magic\n",
    "![incorrect_magic](images/magic_wrong2.png)"
   ]
  },
  {
   "cell_type": "code",
   "execution_count": null,
   "metadata": {},
   "outputs": [],
   "source": []
  }
 ],
 "metadata": {
  "kernelspec": {
   "display_name": "Python 3",
   "language": "python",
   "name": "python3"
  }
 },
 "nbformat": 4,
 "nbformat_minor": 4
}
