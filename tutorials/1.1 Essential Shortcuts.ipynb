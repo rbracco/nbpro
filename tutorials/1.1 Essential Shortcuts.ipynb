{
 "cells": [
  {
   "cell_type": "markdown",
   "metadata": {},
   "source": [
    "# Essential Shortcuts"
   ]
  },
  {
   "cell_type": "markdown",
   "metadata": {},
   "source": [
    "## Intro to Shortcuts"
   ]
  },
  {
   "cell_type": "markdown",
   "metadata": {},
   "source": [
    "Keyboard shortcuts are a meta-skill that will save you time across your entire life as a coder. Jupyter keyboard shortcuts are essential because A. you will use Jupyter often and B. the alternative of using the mouse + menu, is awful. \n",
    "\n",
    "Unfortunately, most software comes with a *comprehensive* list of shortcuts rather than a *practical* one. This is generally true of documentation as well and, while this can be great for the already experienced user of your library or software, it sucks for the new user, even if they are an experienced coder. \n",
    "\n",
    "What the new user often needs is a list of functionality ordered from most commonly used to least commonly used, so I did just that with a custom Jupyter extension, something you'll learn in Chapter 3."
   ]
  },
  {
   "cell_type": "markdown",
   "metadata": {},
   "source": [
    "### The Learn Shortcuts Extension"
   ]
  },
  {
   "cell_type": "markdown",
   "metadata": {},
   "source": [
    "To see the full, unordered list of Jupyter shortcuts, press **H**  \n",
    "To see a structured list of only the most common shortcuts, press **Shift+H** (our custom extension)"
   ]
  },
  {
   "cell_type": "markdown",
   "metadata": {},
   "source": [
    "## Command Mode Shortcuts "
   ]
  },
  {
   "cell_type": "markdown",
   "metadata": {},
   "source": [
    "Let's start with the most important shortcuts in <span style=\"color:blue\"><strong>Command Mode</strong></span> (meant for changing the whole cell). I'll list them here, give you some space to practice them yourself, and then I'll return to go over the ones that can be a bit tricky.  \n",
    "\n",
    "* Creating and deleting cells\n",
    "  * **A**  - insert new cell above\n",
    "  * **B**  - insert new cell below\n",
    "  * **DD** - delete selected cells \n",
    "  * **Z** - undo cell deletion\n",
    "* Cutting copying and pasting\n",
    "  * **C** - copy cell\n",
    "  * **V** - paste cell below\n",
    "  * **Shift-V** - paste cell above\n",
    "  * **X** - cut cell\n",
    "* Change cell types\n",
    "  * **Y** - change cell to `code` type\n",
    "  * **M** - change cell to *markdown* type\n",
    "  * **R** - change cell to raw text (rarely useful)\n",
    "* Navigation\n",
    "  * **Up arrow** - Select cell above\n",
    "  * **Down arrow** - Select cell below\n",
    "  * **Shift+Up arrow** - Select multiple cells above\n",
    "  * **Shift+Down arrow** - Select multiple cells below\n",
    "  * **Space** - Scroll down\n",
    "  * **Shift-Space** -Scroll up\n",
    "* Other functions\n",
    "  * **S** - save notebook\n",
    "  * **H** - view keyboard shortcuts\n",
    "  * **Shift-H** - view basic shortcuts"
   ]
  },
  {
   "cell_type": "markdown",
   "metadata": {},
   "source": [
    "### Practice"
   ]
  },
  {
   "cell_type": "markdown",
   "metadata": {},
   "source": [
    "I strongly encourage you to try out each one of the shortcuts in the list above. I've included below a combination of empty, code, and markdown cells for you to play with. Remember you can press **Shift-H** to see useful shortcuts so you don't have to scroll up. Stick to the <span style=\"color:blue\"><strong>Command Mode</strong></span> side for now."
   ]
  },
  {
   "cell_type": "code",
   "execution_count": null,
   "metadata": {},
   "outputs": [],
   "source": []
  },
  {
   "cell_type": "code",
   "execution_count": null,
   "metadata": {},
   "outputs": [
    {
     "name": "stdout",
     "output_type": "stream",
     "text": [
      "I will practice keyboard shortcuts\n",
      "I will practice keyboard shortcuts\n",
      "I will practice keyboard shortcuts\n",
      "I will practice keyboard shortcuts\n",
      "I will practice keyboard shortcuts\n",
      "I will practice keyboard shortcuts\n",
      "I will practice keyboard shortcuts\n",
      "I will practice keyboard shortcuts\n",
      "I will practice keyboard shortcuts\n",
      "I will practice keyboard shortcuts\n"
     ]
    }
   ],
   "source": [
    "# This is a code cell\n",
    "for i in range(10):\n",
    "    print(\"I will practice keyboard shortcuts\")"
   ]
  },
  {
   "cell_type": "code",
   "execution_count": null,
   "metadata": {},
   "outputs": [],
   "source": []
  },
  {
   "cell_type": "code",
   "execution_count": null,
   "metadata": {},
   "outputs": [],
   "source": []
  },
  {
   "cell_type": "markdown",
   "metadata": {},
   "source": [
    "This is a markdown cell with an image\n",
    "\n",
    "![Bart Simpson writing on Chalkboard](images/bart-shortcuts.gif)"
   ]
  },
  {
   "cell_type": "code",
   "execution_count": null,
   "metadata": {},
   "outputs": [],
   "source": []
  },
  {
   "cell_type": "code",
   "execution_count": null,
   "metadata": {},
   "outputs": [],
   "source": []
  },
  {
   "cell_type": "markdown",
   "metadata": {},
   "source": [
    "**This is the end of practice**"
   ]
  },
  {
   "cell_type": "code",
   "execution_count": null,
   "metadata": {},
   "outputs": [],
   "source": []
  },
  {
   "cell_type": "markdown",
   "metadata": {},
   "source": [
    "### A few things to watch out for"
   ]
  },
  {
   "cell_type": "markdown",
   "metadata": {},
   "source": [
    "#### Z - Undo Delete"
   ]
  },
  {
   "cell_type": "markdown",
   "metadata": {},
   "source": [
    "This is a really important one to know since you'll occasionally delete a cell on accident. People often hit Ctrl-Z out of habit and wonder why it doesn't work. It's because undo is simply **Z** (in command mode). Like normal \"undo\" functionality, Jupyter keeps a stack of all deleted cells, so pressing **Z** multiple times will bring back multiple recently deleted cells.  \n",
    "\n",
    "Practice using **DD** to delete some cells, and **Z** to bring them back."
   ]
  },
  {
   "cell_type": "markdown",
   "metadata": {},
   "source": [
    "#### C, V, and X for Copying and Pasting"
   ]
  },
  {
   "cell_type": "markdown",
   "metadata": {},
   "source": [
    "These are easy enough when used in one notebook, but often confuse people when it comes to copying cells from one notebook and pasting them in another. For that you'll need **Ctrl-C** and **Ctrl-V**. \n",
    "\n",
    "One other quirk of this is **Ctrl-C** will actually paste above, not below. \n",
    "\n",
    "Finally, if you're copying multiple cells at once, make sure you're in command mode when you paste them, or they'll all get combined into one cell. "
   ]
  },
  {
   "cell_type": "markdown",
   "metadata": {},
   "source": [
    "## Edit Mode Shortcuts"
   ]
  },
  {
   "cell_type": "markdown",
   "metadata": {},
   "source": [
    "Okay now that you're a <span style=\"color:blue\"><strong>Command Mode</strong></span> Pro. Let's jump into shortcuts for <span style=\"color:green\"><strong>Edit Mode</strong></span> (meant for changing the inside of a cell)\n",
    "\n",
    "* Same as Most Applications\n",
    "  * **Ctrl-C**  - Copy\n",
    "  * **Ctrl-V**  - Paste\n",
    "  * **Ctrl-X**  - Cut\n",
    "  * **Ctrl-Z**  - Undo\n",
    "  * **Ctrl-Y**  - Redo\n",
    "  * **Ctrl-S**  - Save and Checkpoint\n",
    "* Useful For Code\n",
    "  * **Tab** - Autocomplete Code\n",
    "  * **Shift-Tab** - Show Function Docstring (simple)\n",
    "  * **Shift-Tab(x2)** - Show Function Docstring (complete)\n",
    "  * **Shift-Tab(x4)** - Show Function Docstring (in pager)\n",
    "  * **Ctrl-\\[** - Indent Code\n",
    "  * **Ctrl-\\]** - Dedent Code\n",
    "  * **Ctrl-/** - Comment/Uncomment Selection\n",
    "* Navigation\n",
    "  * **Home** - Go to Line Start\n",
    "  * **End** - Go to Line End\n",
    "  * **Ctrl-Left** - Go One Word Left\n",
    "  * **Ctrl-Right** - Go One Word Right"
   ]
  },
  {
   "cell_type": "markdown",
   "metadata": {},
   "source": [
    "### Edit Mode Practice"
   ]
  },
  {
   "cell_type": "markdown",
   "metadata": {},
   "source": [
    "You know the drill. Use this space as a sandbox to try out those slick <span style=\"color:blue\"><strong>Edit Mode</strong></span> shortcuts."
   ]
  },
  {
   "cell_type": "code",
   "execution_count": null,
   "metadata": {},
   "outputs": [],
   "source": []
  },
  {
   "cell_type": "code",
   "execution_count": null,
   "metadata": {},
   "outputs": [
    {
     "name": "stdout",
     "output_type": "stream",
     "text": [
      "0 + 0 is 0\n",
      "0 + 1 is 1\n",
      "0 + 2 is 2\n",
      "0 + 3 is 3\n",
      "0 + 4 is 4\n",
      "1 + 0 is 1\n",
      "1 + 1 is 2\n",
      "1 + 2 is 3\n",
      "1 + 3 is 4\n",
      "1 + 4 is 5\n",
      "2 + 0 is 2\n",
      "2 + 1 is 3\n",
      "2 + 2 is 4\n",
      "2 + 3 is 5\n",
      "2 + 4 is 6\n",
      "3 + 0 is 3\n",
      "3 + 1 is 4\n",
      "3 + 2 is 5\n",
      "3 + 3 is 6\n",
      "3 + 4 is 7\n",
      "4 + 0 is 4\n",
      "4 + 1 is 5\n",
      "4 + 2 is 6\n",
      "4 + 3 is 7\n",
      "4 + 4 is 8\n",
      "\n",
      "The total of all the sums is 100\n"
     ]
    }
   ],
   "source": [
    "# This is a code cell\n",
    "total = 0\n",
    "for i in range(5):\n",
    "    for j in range(5):\n",
    "        print(f\"{i} + {j} is {i+j}\")\n",
    "        total += i+j\n",
    "print(\"\\nThe total of all the sums is\", total)"
   ]
  },
  {
   "cell_type": "code",
   "execution_count": null,
   "metadata": {},
   "outputs": [],
   "source": []
  },
  {
   "cell_type": "code",
   "execution_count": null,
   "metadata": {},
   "outputs": [],
   "source": []
  },
  {
   "cell_type": "code",
   "execution_count": null,
   "metadata": {},
   "outputs": [],
   "source": []
  },
  {
   "cell_type": "code",
   "execution_count": null,
   "metadata": {},
   "outputs": [],
   "source": []
  },
  {
   "cell_type": "markdown",
   "metadata": {},
   "source": [
    "**This is the end of practice**"
   ]
  },
  {
   "cell_type": "code",
   "execution_count": null,
   "metadata": {},
   "outputs": [],
   "source": []
  },
  {
   "cell_type": "markdown",
   "metadata": {},
   "source": [
    "### A few things to watch out for"
   ]
  },
  {
   "cell_type": "markdown",
   "metadata": {},
   "source": [
    "#### Ctrl-Z and Ctrl-Y: Each cell has it's own undo/redo memory"
   ]
  },
  {
   "cell_type": "markdown",
   "metadata": {},
   "source": [
    "Ctrl-Z will only undo the most recent action in the current cell you're in. If you make 20 changes in Cell A, and 10 in Cell B, and then return to Cell A (in edit mode) and press **Ctrl-Z**, it will start undoing those first 20 changes you made, not the more recent ones. This is because each cell maintains it's own history of actions for undo and redo.  \n",
    "\n",
    "This might seem weird, but think about having multiple cells being like having multiple documents open in Microsoft Word. If you were trying to undo changes in one document, and it started undoing more recent changes in another document, wouldn't that be ineffective and hard to deal with? For the same reason, Jupyter treats it's cells as independent entities with their own memory/history."
   ]
  },
  {
   "cell_type": "markdown",
   "metadata": {},
   "source": [
    "#### Tab only indents code cells if you are at the start of the line"
   ]
  },
  {
   "cell_type": "markdown",
   "metadata": {},
   "source": [
    "If you're used to using a more traditional code editor, you expect tab to indent and shift-tab to dedent, even if you're in the middle of a line. Because Jupyter is designed for interactivity, it reserves tab for autocompleting code.  \n",
    "\n",
    "Pressing tab at the start of the line will still indent, but if you press tab anywhere after the *first non-whitespace character*, Jupyter will \n",
    "  - Autocomplete the code if there's only one possible completion\n",
    "  - Show you a list of options if there are multiple\n",
    "  \n",
    "Here's an example:\n",
    "![Autocomplete Example](images/autocomplete.gif)\n",
    "\n",
    "To select one of the options from the popup menu, use the arrow keys and press enter, pressing tab won't work."
   ]
  },
  {
   "cell_type": "markdown",
   "metadata": {},
   "source": [
    "#### Ctrl + \\[ for indent"
   ]
  },
  {
   "cell_type": "markdown",
   "metadata": {},
   "source": [
    "Pressing ctrl+\\[ will let you indent the entire line anywhere in a code cell. It also works if you select multiple lines and indent them all at once. Select multiple lines the same way you would in any text editor, holding shift and using the arrow keys."
   ]
  },
  {
   "cell_type": "markdown",
   "metadata": {},
   "source": [
    "#### Shift-Tab is incredibly useful"
   ]
  },
  {
   "cell_type": "markdown",
   "metadata": {},
   "source": [
    "You can use shift-tab on any line that calls a function. It doesn't matter if the cursor is at the start/end/middle of the line. Pressing shift-tab will show you incredibly useful information, the signature (what parameters the function accepts) and the docstring (information about the functions use). \n",
    "\n",
    "When I say Shift-Tab(x2) and Shift-Tab(x4) I mean while holding down shift, press tab that many times. What happened to Shift-Tab(x3) you might ask? Here's the full breakdown:\n",
    "\n",
    "- Shift-Tab(x1) - Show signature and first line of the docstring\n",
    "- Shift-Tab(x2) - Show signature and complete docstring\n",
    "- Shift-Tab(x3) - Show signature and complete docstring and leave it up 10 seconds longer\n",
    "- Shift-Tab(x4)- Show signature and first line of the docstring in Jupyter's pager.\n",
    "\n",
    "The last option is great when you have a function or method with a really detailed docstring describing each parameter and its options as is very common in data science libraries."
   ]
  },
  {
   "cell_type": "code",
   "execution_count": null,
   "metadata": {},
   "outputs": [],
   "source": [
    "print"
   ]
  },
  {
   "cell_type": "markdown",
   "metadata": {},
   "source": [
    "#### Navigation: Better options than scrolling"
   ]
  },
  {
   "cell_type": "markdown",
   "metadata": {},
   "source": [
    "The navigation shortcuts might not seem that essential, and I'll level with you, they almost didn't make the cut. I chose to include them as essential because you will have to fix typos/mistakes many times every single day and the time will add up. \n",
    "\n",
    "- Home/End will beat scrolling or using a mouse. \n",
    "- You can use ctrl+left/right repeatedly for a fast scroll \n",
    "- Use ctrl+shift+left/right to quickly select a group of words"
   ]
  },
  {
   "cell_type": "code",
   "execution_count": null,
   "metadata": {},
   "outputs": [],
   "source": []
  },
  {
   "cell_type": "code",
   "execution_count": null,
   "metadata": {},
   "outputs": [],
   "source": []
  }
 ],
 "metadata": {
  "kernelspec": {
   "display_name": "Python 3",
   "language": "python",
   "name": "python3"
  }
 },
 "nbformat": 4,
 "nbformat_minor": 4
}
