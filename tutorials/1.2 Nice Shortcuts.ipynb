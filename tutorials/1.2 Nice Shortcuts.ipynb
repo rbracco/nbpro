{
 "cells": [
  {
   "cell_type": "markdown",
   "metadata": {},
   "source": [
    "# Nice Shortcuts"
   ]
  },
  {
   "cell_type": "markdown",
   "metadata": {},
   "source": [
    "In this section we will quickly review the shortcuts that you could likely live without, but are still really useful from time to time. "
   ]
  },
  {
   "cell_type": "markdown",
   "metadata": {},
   "source": [
    "## Command Mode Shortcuts"
   ]
  },
  {
   "cell_type": "markdown",
   "metadata": {},
   "source": [
    "### F for Find and Replace"
   ]
  },
  {
   "cell_type": "markdown",
   "metadata": {},
   "source": [
    "Will find and replace all in the selected cells. Unfortunately there is no way to step through the matches and only replace the ones you want, you have to replace all.\n",
    "\n",
    "![find and replace](images/find-replace.png)\n",
    "\n",
    "\n",
    "There are several options here...  \n",
    "<span style=\"color:red;font-weight:bold;\">1. Toggle case sensitivity</span>  \n",
    "<span style=\"color:brown;font-weight:bold;\">2. Use regular expressions ([Javascript regex syntax](https://www.debuggex.com/cheatsheet/regex/javascript))</span>  \n",
    "<span style=\"color:purple;font-weight:bold;\">3. Find and replace in all cells</span> "
   ]
  },
  {
   "cell_type": "markdown",
   "metadata": {},
   "source": [
    "### Shift-M for merging selected cells"
   ]
  },
  {
   "cell_type": "markdown",
   "metadata": {},
   "source": [
    "To merge a group of cells, you could copy the contents of each one individually, and then paste them into a single cell, but thankfully there's a better way. Select all the cells you would like to combine, and press **Shift-M** to merge them.\n",
    "\n",
    "Use shift + arrow keys to select all 3 cells below and then **Shift-M** to merge them"
   ]
  },
  {
   "cell_type": "code",
   "execution_count": null,
   "metadata": {},
   "outputs": [],
   "source": [
    "def func1(x):\n",
    "    pass"
   ]
  },
  {
   "cell_type": "code",
   "execution_count": null,
   "metadata": {},
   "outputs": [],
   "source": [
    "def func2(y):\n",
    "    pass"
   ]
  },
  {
   "cell_type": "code",
   "execution_count": null,
   "metadata": {},
   "outputs": [],
   "source": [
    "def func3(z):\n",
    "    pass"
   ]
  },
  {
   "cell_type": "markdown",
   "metadata": {},
   "source": [
    "### L and Shift-L for displaying line numbers"
   ]
  },
  {
   "cell_type": "markdown",
   "metadata": {},
   "source": [
    "Sometimes it's useful to see line numbers in your code cells, especially when trying to debug using the stack trace. The reason this isn't an essential shortcut is because in Jupyter, most of the time we are writing short chunks of code, and rarely have a cell with more than 10-15 lines, unless you're writing a library. \n",
    "\n",
    "Hit **L** to display/hide line numbers, and use **Shift-L** if you want to change it for all cells and persist the setting (so line numbers appear next time you open the notebook). \n",
    "\n",
    "Try it out below"
   ]
  },
  {
   "cell_type": "code",
   "execution_count": null,
   "metadata": {},
   "outputs": [
    {
     "name": "stdout",
     "output_type": "stream",
     "text": [
      "This is line 1\n",
      "This is line 2\n",
      "This is line 3\n",
      "This is line 4\n",
      "This is line 5\n",
      "This is line 6\n",
      "This is line 7\n",
      "This is line 8\n",
      "This is line 9\n",
      "This is line 10\n",
      "This is line 11\n",
      "This is line 12\n",
      "This is line 13\n",
      "This is line 14\n",
      "This is line 15\n"
     ]
    }
   ],
   "source": [
    "print('This is line 1')\n",
    "print('This is line 2')\n",
    "print('This is line 3')\n",
    "print('This is line 4')\n",
    "print('This is line 5')\n",
    "print('This is line 6')\n",
    "print('This is line 7')\n",
    "print('This is line 8')\n",
    "print('This is line 9')\n",
    "print('This is line 10')\n",
    "print('This is line 11')\n",
    "print('This is line 12')\n",
    "print('This is line 13')\n",
    "print('This is line 14')\n",
    "print('This is line 15')"
   ]
  },
  {
   "cell_type": "markdown",
   "metadata": {},
   "source": [
    "### O for Showing/Hiding Output"
   ]
  },
  {
   "cell_type": "markdown",
   "metadata": {},
   "source": [
    "Sometimes you have code that prints a ton of output and you just want to hide it so you don't have to scroll. Select that cell and press **O** to show/hide the output."
   ]
  },
  {
   "cell_type": "code",
   "execution_count": null,
   "metadata": {},
   "outputs": [
    {
     "name": "stdout",
     "output_type": "stream",
     "text": [
      "Annoying output\n",
      "Annoying output\n",
      "Annoying output\n",
      "Annoying output\n",
      "Annoying output\n",
      "Annoying output\n",
      "Annoying output\n",
      "Annoying output\n",
      "Annoying output\n",
      "Annoying output\n",
      "Annoying output\n",
      "Annoying output\n",
      "Annoying output\n",
      "Annoying output\n",
      "Annoying output\n",
      "Annoying output\n",
      "Annoying output\n",
      "Annoying output\n",
      "Annoying output\n",
      "Annoying output\n",
      "Annoying output\n",
      "Annoying output\n",
      "Annoying output\n",
      "Annoying output\n",
      "Annoying output\n",
      "Annoying output\n",
      "Annoying output\n",
      "Annoying output\n",
      "Annoying output\n",
      "Annoying output\n",
      "Annoying output\n",
      "Annoying output\n",
      "Annoying output\n",
      "Annoying output\n",
      "Annoying output\n",
      "Annoying output\n",
      "Annoying output\n",
      "Annoying output\n",
      "Annoying output\n",
      "Annoying output\n",
      "Annoying output\n",
      "Annoying output\n",
      "Annoying output\n",
      "Annoying output\n",
      "Annoying output\n",
      "Annoying output\n",
      "Annoying output\n",
      "Annoying output\n",
      "Annoying output\n",
      "Annoying output\n",
      "Annoying output\n",
      "Annoying output\n",
      "Annoying output\n",
      "Annoying output\n",
      "Annoying output\n",
      "Annoying output\n",
      "Annoying output\n",
      "Annoying output\n",
      "Annoying output\n",
      "Annoying output\n",
      "Annoying output\n",
      "Annoying output\n",
      "Annoying output\n",
      "Annoying output\n",
      "Annoying output\n",
      "Annoying output\n",
      "Annoying output\n",
      "Annoying output\n",
      "Annoying output\n",
      "Annoying output\n",
      "Annoying output\n",
      "Annoying output\n",
      "Annoying output\n",
      "Annoying output\n",
      "Annoying output\n",
      "Annoying output\n",
      "Annoying output\n",
      "Annoying output\n",
      "Annoying output\n",
      "Annoying output\n",
      "Annoying output\n",
      "Annoying output\n",
      "Annoying output\n",
      "Annoying output\n",
      "Annoying output\n",
      "Annoying output\n",
      "Annoying output\n",
      "Annoying output\n",
      "Annoying output\n",
      "Annoying output\n",
      "Annoying output\n",
      "Annoying output\n",
      "Annoying output\n",
      "Annoying output\n",
      "Annoying output\n",
      "Annoying output\n",
      "Annoying output\n",
      "Annoying output\n",
      "Annoying output\n",
      "Annoying output\n"
     ]
    }
   ],
   "source": [
    "for i in range(100):\n",
    "    print(\"Annoying output\")"
   ]
  },
  {
   "cell_type": "markdown",
   "metadata": {},
   "source": [
    "### 0-0 (zero-zero) for restarting the kernel"
   ]
  },
  {
   "cell_type": "markdown",
   "metadata": {},
   "source": [
    "To restart the kernel, press **0-0** (zero-zero). This will clear the state of the notebook so any variables created/imported into the notebook will be removed. \n",
    "\n",
    "There are some other useful actions in the kernel menu like restart and run all, but by default they don't have any keyboard shortcuts. In the final section of this chapter we'll learn to make custom keyboard shortcuts, both for actions that already exist like 'restart and run all' as well as ones that don't exist, like automatically scrolling to the currently running cell. "
   ]
  },
  {
   "cell_type": "markdown",
   "metadata": {},
   "source": [
    "### P for opening the command palette"
   ]
  },
  {
   "cell_type": "markdown",
   "metadata": {},
   "source": [
    "I personally don't use this often, but it is useful for seeing what actions are built into jupyter. Press **P** to open the command palette, and then to see what an action does, click on it, or use the appropriate keyboard shortcut if there is one.\n",
    "\n",
    "With this cell selected, open the command palette and click \"scroll cell top\" and see what it does. "
   ]
  },
  {
   "cell_type": "markdown",
   "metadata": {},
   "source": [
    "## Edit Mode Commands"
   ]
  },
  {
   "cell_type": "markdown",
   "metadata": {},
   "source": [
    "### Ctrl-Shift-Minus to Split Cells"
   ]
  },
  {
   "cell_type": "markdown",
   "metadata": {},
   "source": [
    "Press **Ctrl-Shift-Minus** and the current cell will split at the cursor location. Leading and trailing whitespace are conveniently stripped out for us.\n",
    "\n",
    "You know, maybe those functions we merged above should be in separate cells after all. Try it out below..."
   ]
  },
  {
   "cell_type": "code",
   "execution_count": null,
   "metadata": {},
   "outputs": [],
   "source": [
    "def func1(x):\n",
    "    pass\n",
    "\n",
    "def func2(y):\n",
    "    pass\n",
    "\n",
    "def func3(z):\n",
    "    pass"
   ]
  },
  {
   "cell_type": "markdown",
   "metadata": {},
   "source": [
    "### Alt-Enter to Run Cell and Insert Below"
   ]
  },
  {
   "cell_type": "markdown",
   "metadata": {},
   "source": [
    "Most of the time we use shift-enter to run cells, and this automatically selects the next cell for us or, if we are in the final cell of the notebook, automatically inserts a new cell below. This is great when *writing* a notebook, but when you go back and edit sections, oftentimes you will want to run the cell you just wrote and insert a new one below. \n",
    "\n",
    "To acheive this, you could hit Ctrl-Enter to run, A to insert above, and then enter to switch to edit mode...or you could just press **Alt-Enter**"
   ]
  },
  {
   "cell_type": "markdown",
   "metadata": {},
   "source": [
    "### Esc or Q to close the pager"
   ]
  },
  {
   "cell_type": "markdown",
   "metadata": {},
   "source": [
    "A simple one, instead of grabbing the mouse and clicking that tiny <span style=\"border:1px solid gray\">&nbsp;X&nbsp;</span> in the corner, just press **ESC** or **Q**.\n",
    "\n",
    "Run the cell below and then close the pager the easy way."
   ]
  },
  {
   "cell_type": "code",
   "execution_count": null,
   "metadata": {},
   "outputs": [],
   "source": [
    "print??"
   ]
  },
  {
   "cell_type": "markdown",
   "metadata": {},
   "source": [
    "### Ctrl-D to Delete a Line"
   ]
  },
  {
   "cell_type": "markdown",
   "metadata": {},
   "source": [
    "It's a common occurrence when coding to remove an entire line of code or markdown. Most of the time I'm lazy and do it with Ctrl-X, but the proper way, if I'm not planning on pasting it, is Ctrl-D, so that I don't clobber whatever is on the clipboard*.\n",
    "\n",
    "Give it a shot below."
   ]
  },
  {
   "cell_type": "markdown",
   "metadata": {},
   "source": [
    "- Keep me\n",
    "- Delete me\n",
    "- Keep me\n",
    "- Delete me\n",
    "- Keep me"
   ]
  },
  {
   "cell_type": "markdown",
   "metadata": {},
   "source": [
    "<div class=\"alert alert-warning\"><strong>*Tip:</strong> If you're on windows and ever hit ctrl-x and accidentally clobber something on your keyboard, press ⊞+V (windows key + V) to show the full clipboard history. Unfortunately on apple you'll need a third party app. </div>"
   ]
  },
  {
   "cell_type": "markdown",
   "metadata": {},
   "source": [
    "### Press 'Insert' for World's Most Annoying Feature"
   ]
  },
  {
   "cell_type": "markdown",
   "metadata": {},
   "source": [
    "I have used this shortcut countless times, and never once has it been intentional. Hitting **Insert** switches from \"insert mode\" aka normal typing to \"overwrite mode\" where each new letter replaces an existing one. This can be extremely frustrating when editing code and suddenly realize you're overwriting existing code as you type. The good news is you can just press **Insert** to switch back to normal.\n",
    "\n",
    "Try it out below"
   ]
  },
  {
   "cell_type": "code",
   "execution_count": null,
   "metadata": {},
   "outputs": [],
   "source": []
  },
  {
   "cell_type": "markdown",
   "metadata": {},
   "source": [
    "Try clicking in the middle of this cell, pressing insert, and then starting to type."
   ]
  },
  {
   "cell_type": "markdown",
   "metadata": {},
   "source": [
    "#### Disabling insert NOTE THIS NEEDS TO BE DONE"
   ]
  },
  {
   "cell_type": "markdown",
   "metadata": {},
   "source": [
    "In the next section, we will cover custom shortcuts, including how to disable ones you don't like. For those that don't need that level of understanding, I've included an example to get rid of insert so you'll never get interrupted by it again."
   ]
  }
 ],
 "metadata": {
  "kernelspec": {
   "display_name": "Python 3",
   "language": "python",
   "name": "python3"
  }
 },
 "nbformat": 4,
 "nbformat_minor": 4
}
