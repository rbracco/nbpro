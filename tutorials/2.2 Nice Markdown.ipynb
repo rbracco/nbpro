{
 "cells": [
  {
   "cell_type": "markdown",
   "metadata": {},
   "source": [
    "# Nice Markdown"
   ]
  },
  {
   "cell_type": "markdown",
   "metadata": {},
   "source": [
    "### `>` for quotes"
   ]
  },
  {
   "cell_type": "markdown",
   "metadata": {},
   "source": [
    "Quotes are easy, just prefix them with \\>\n",
    "\n",
    "> A capacity, and taste, for reading gives access to whatever has already been discovered by others.  \n",
    "—Abraham Lincoln"
   ]
  },
  {
   "cell_type": "markdown",
   "metadata": {},
   "source": [
    "### `***` to make a horizontal divider"
   ]
  },
  {
   "cell_type": "markdown",
   "metadata": {},
   "source": [
    "To insert a horizontal divider, also known as a horizontal rule, just put `***`, `~~~` or `---` on a new line."
   ]
  },
  {
   "cell_type": "markdown",
   "metadata": {},
   "source": [
    "***"
   ]
  },
  {
   "cell_type": "markdown",
   "metadata": {},
   "source": [
    "Note: `---`, on a line directly below text, will cause that text to be rendered as a header, make sure the `---` is in it's own paragraph"
   ]
  },
  {
   "cell_type": "markdown",
   "metadata": {},
   "source": [
    "### `|` to create tables"
   ]
  },
  {
   "cell_type": "markdown",
   "metadata": {},
   "source": [
    "To create a table using markdown, I recommend you save yourself the trouble and use a [Good Markdown Table Generator](https://www.tablesgenerator.com/markdown_tables) instead of creating them manually using `|`. That being said, it's good to understand how tables work in Markdown so that you can quickly adjust them if needed, without having to completely remake them from scratch."
   ]
  },
  {
   "cell_type": "markdown",
   "metadata": {},
   "source": [
    "#### Building tables the hard way"
   ]
  },
  {
   "cell_type": "markdown",
   "metadata": {},
   "source": [
    "The first row is just the names of your headers, separated by `|`"
   ]
  },
  {
   "cell_type": "markdown",
   "metadata": {},
   "source": [
    "| Header 1 | Header 2 | Header 3 |\n",
    "***"
   ]
  },
  {
   "cell_type": "markdown",
   "metadata": {},
   "source": [
    "Then below that, we divide our headers from our data with `-` separated by `|`. "
   ]
  },
  {
   "cell_type": "markdown",
   "metadata": {},
   "source": [
    "| ----- | ----- | ----- |"
   ]
  },
  {
   "cell_type": "markdown",
   "metadata": {},
   "source": [
    "Combine them and we get something that's starting to look like a table\n",
    "\n",
    "| Header 1 | Header 2 | Header 3 |\n",
    "| ----- | ----- | ----- |\n",
    "\n",
    "***"
   ]
  },
  {
   "cell_type": "markdown",
   "metadata": {},
   "source": [
    "Next we can add data, you guessed it, separated by `|`.\n",
    "\n",
    "| bananas | 9 | \\$90.00 |\n",
    "\n",
    "Combine everything we've done so far and we have:\n",
    "\n",
    "| Header 1 | Header 2 | Header 3 |\n",
    "| ----- | ----- | ----- |\n",
    "| bananas | 9 | \\$90.00 |\n",
    "\n",
    "***"
   ]
  },
  {
   "cell_type": "markdown",
   "metadata": {},
   "source": [
    "#### A basic completed table"
   ]
  },
  {
   "cell_type": "markdown",
   "metadata": {},
   "source": [
    "| Header 1 | Header 2 | Header 3 |\n",
    "| ----- | ----- | ----- |\n",
    "| bananas | 9 | \\$90.00  |\n",
    "| apples | 6 | \\$3.25 |\n",
    "| oranges | 17 | \\$4.50 |\n",
    "\n",
    "Note that we needed to escape the \\$ because that's the symbol Markdown uses for displaying inline equations using MathJax, something we'll see later in this chapter"
   ]
  },
  {
   "cell_type": "markdown",
   "metadata": {},
   "source": [
    "#### Customizing Tables"
   ]
  },
  {
   "cell_type": "markdown",
   "metadata": {},
   "source": [
    "What you need to know:\n",
    "- Tables will stretch/shrink to fit the data, number of hyphens doesn't matter\n",
    "- For separating headers and data, you need at least 3 hyphens\n",
    "- You can use `:` in the row with hyphens to align each column\n",
    "  - `|:----|` for left-align \n",
    "  - `|----:|` for center-align\n",
    "  - `|----:|` for right-align (unnecessary because it's the default alignment)\n",
    "  \n",
    "- You can use inline markdown inside your tables"
   ]
  },
  {
   "cell_type": "markdown",
   "metadata": {},
   "source": [
    "#### A customized table"
   ]
  },
  {
   "cell_type": "markdown",
   "metadata": {},
   "source": [
    "I've taken some data from a piece I wrote about [The Most Common Python Functions](https://medium.com/@robertbracco1/most-common-python-functions-aafdc01b71ef) and inserted it into a table with some special alignments, as well as inline markdown (1st column is displayed as code).\n",
    "\n",
    "| Command | Projects Using | Total Uses |\n",
    "| :----- | :-----: | -----: |\n",
    "| `len` | 69.02% | 222626  |\n",
    "| `print` | 50.10% |  170384 |\n",
    "| `format` | 45.59% | 124423 |\n",
    "| `isinstance` | 45.69% | 104212 |\n",
    "| `str` | 54.91% | 98316 |"
   ]
  },
  {
   "cell_type": "markdown",
   "metadata": {},
   "source": [
    "One limitation of Markdown tables is that you can only use column headers. If you want your headers to be at the start of each row, you'll need to use HTML."
   ]
  },
  {
   "cell_type": "markdown",
   "metadata": {},
   "source": [
    "### MathJax for creating pretty equations"
   ]
  },
  {
   "cell_type": "markdown",
   "metadata": {},
   "source": [
    "MathJax is a subset of the typesetting language LaTeX and is meant to display beautifully formatted equaltions, inside of media like Jupyter Notebooks and academic papers. Equations start and end with \\\\$ for inline equations, and \\$\\$ for block display. \n",
    "\n",
    "I personally don't know MathJax, but here are links in case you do\n",
    "- [StackExchange MathJax basic tutorial and quick reference wiki](https://math.meta.stackexchange.com/questions/5020/mathjax-basic-tutorial-and-quick-reference)\n",
    "- [Interactive LaTeX Editor](https://www.codecogs.com/latex/eqneditor.php)\n",
    "- [MathJax Homepage](https://www.mathjax.org/)"
   ]
  },
  {
   "cell_type": "markdown",
   "metadata": {},
   "source": [
    "And two simple examples from the StackExchange Basic tutorial to get you started"
   ]
  },
  {
   "cell_type": "markdown",
   "metadata": {},
   "source": [
    "- inline equation $\\sum_{i=0}^n i^2 = \\frac{(n^2+n)(2n+1)}{6}$\n",
    "- block equation $$\\sum_{i=0}^n i^2 = \\frac{(n^2+n)(2n+1)}{6}$$"
   ]
  },
  {
   "cell_type": "markdown",
   "metadata": {},
   "source": [
    "### `[description](#title-of-section)` for internal links"
   ]
  },
  {
   "cell_type": "markdown",
   "metadata": {},
   "source": [
    "<div class=\"alert alert-block alert-warning\"><strong>Note: </strong>There is a better way to navigate between headers, using the \"Table of Contents\" extension, something we cover in section 2.1 Essential Extensions</div>"
   ]
  },
  {
   "cell_type": "markdown",
   "metadata": {},
   "source": [
    "If you hover over any header, you will notice a blue link icon appear to the right. This is because all headers are in fact links, and you can link to them from inside the same notebook. \n",
    "\n",
    "The url is # and then header title separated by hyphens. For instance, the next section is called \"Use HTML inside cells\", so we link to the url \"#Use-HTML-inside-cells\", using the syntax for normal links we learned in the Essential Markdown section\n",
    "\n",
    "Let's [see if it works](#Use-HTML-inside-cells)"
   ]
  },
  {
   "cell_type": "markdown",
   "metadata": {},
   "source": [
    "### Use HTML inside cells"
   ]
  },
  {
   "cell_type": "markdown",
   "metadata": {},
   "source": [
    "In general, markdown does a pretty good job, and I'd recommend sticking to it wherever possible. Sometimes, however the flexibility of Markdown isn't enough and we want to do things like\n",
    "<span style='color:red'>print in other colors</span> or <span style='font-size:24px'>change the font size without a header</span>."
   ]
  },
  {
   "cell_type": "markdown",
   "metadata": {},
   "source": [
    "You may have also noticed the colored blocks I used for displaying\n",
    "<div class=\"alert alert-block alert-info\">Special info</div>\n",
    "<div class=\"alert alert-block alert-warning\">Alerts</div>\n",
    "and\n",
    "<div class=\"alert alert-block alert-success\">Helpful tips</div>"
   ]
  },
  {
   "cell_type": "markdown",
   "metadata": {},
   "source": [
    "All of this is acheived using HTML. Just type valid html in a markdown cell and it will automatically be rendered when you run the cell. HTML in general is outside the scope of this book, so if you don't know HTML and would like to use it to sty"
   ]
  },
  {
   "cell_type": "markdown",
   "metadata": {},
   "source": [
    "HTML is outside the scope of this book, but there are plenty of excellent resources out there in case you want to learn more.\n",
    "**You absolutely do not require any knowledge of HTML to use Jupyter, or to complete this book, so feel free to skip this section and move on** "
   ]
  },
  {
   "cell_type": "markdown",
   "metadata": {},
   "source": [
    "#### HTML Tables"
   ]
  },
  {
   "cell_type": "markdown",
   "metadata": {},
   "source": [
    "HTML Tables are outside the scope of this book, but I've included an example with both Column Headers and Row Headers (something that can't be acheived in Markdown. \n",
    "\n",
    "If you need more as well as a link to [this GeeksForGeeks article](https://www.geeksforgeeks.org/html-tables/) that is full of code examples for the use cases you may need. Note that if you want to use the examples from the article that use CSS, inside of Jupyter, you'll need to use inline CSS in your table, which can be a huge pain. I currently don't know of a better way, as Jupyter is careful not to evaluate certain CSS due to possible security vulnerabilities"
   ]
  },
  {
   "cell_type": "markdown",
   "metadata": {},
   "source": [
    "<table> \n",
    "        <tr> \n",
    "            <th>Command</th> \n",
    "            <th>Projects Using</th> \n",
    "            <th>Total Uses</th> \n",
    "        </tr> \n",
    "        <tr> \n",
    "            <td><code>len</code></td> \n",
    "            <td>69.02%</td> \n",
    "            <td>222626</td> \n",
    "        </tr> \n",
    "        <tr> \n",
    "            <td><code>print</code></td> \n",
    "            <td>50.10%</td> \n",
    "            <td>170384</td> \n",
    "        </tr> \n",
    "        <tr> \n",
    "            <td><code>format</code></td> \n",
    "            <td>45.59%</td> \n",
    "            <td>124423</td> \n",
    "        </tr> \n",
    "        <tr> \n",
    "            <td><code>isinstance</code></td> \n",
    "            <td>45.69%</td> \n",
    "            <td>104212</td> \n",
    "        </tr> \n",
    "        <tr> \n",
    "            <td><code>str</code></td> \n",
    "            <td>54.91%</td> \n",
    "            <td>98316</td> \n",
    "        </tr> \n",
    "    </table> "
   ]
  },
  {
   "cell_type": "markdown",
   "metadata": {},
   "source": [
    "<table> \n",
    "    <tr> \n",
    "        <th>Command</th>\n",
    "        <td><code>len</code></td>\n",
    "        <td><code>print</code></td> \n",
    "        <td><code>format</code></td>\n",
    "        <td><code>isinstance</code></td>\n",
    "        <td><code>str</code></td>\n",
    "    </tr> \n",
    "    <tr> \n",
    "        <th>Projects Using</th> \n",
    "        <td>69.02%</td>\n",
    "        <td>50.10%</td>\n",
    "        <td>45.59%</td> \n",
    "        <td>45.69%</td>\n",
    "        <td>54.91%</td>\n",
    "    </tr> \n",
    "    <tr> \n",
    "        <th>Total Uses</th>\n",
    "        <td>222626</td> \n",
    "        <td>170384</td>\n",
    "        <td>124423</td>\n",
    "        <td>104212</td>\n",
    "        <td>98316</td>\n",
    "    </tr> \n",
    "</table> "
   ]
  },
  {
   "cell_type": "markdown",
   "metadata": {},
   "source": [
    "#### HTML Entity Embeddings for Symbols"
   ]
  },
  {
   "cell_type": "markdown",
   "metadata": {},
   "source": [
    "Entities are special items in HTML that start with `&` and end with `;` and are used to display icons. For instance say we needed the &copy; symbol, we can create it in HTML by writing \"&amp;copy;\", or by using it's entity number \"&amp;#169\"; \n",
    "\n",
    "If you want more, check out this [complete list of HTML entities](https://dev.w3.org/html5/html-author/charref)"
   ]
  },
  {
   "cell_type": "markdown",
   "metadata": {},
   "source": [
    "### `Ipython.display` for including videos"
   ]
  },
  {
   "cell_type": "markdown",
   "metadata": {},
   "source": [
    "Credit to [Christopher Lovell](https://github.com/christopherlovell) for [figuring this out](https://gist.github.com/christopherlovell/e3e70880c0b0ad666e7b5fe311320a62)"
   ]
  },
  {
   "cell_type": "code",
   "execution_count": null,
   "metadata": {},
   "outputs": [
    {
     "data": {
      "text/html": [
       "<iframe width=\"560\" height=\"315\" src=\"https://player.vimeo.com/video/26763844?title=0&byline=0&portrait=0\" frameborder=\"0\" allowfullscreen></iframe>"
      ],
      "text/plain": [
       "<IPython.core.display.HTML object>"
      ]
     },
     "execution_count": null,
     "metadata": {},
     "output_type": "execute_result"
    }
   ],
   "source": [
    "from IPython.display import HTML\n",
    "HTML('<iframe width=\"560\" height=\"315\" src=\"https://player.vimeo.com/video/26763844?title=0&byline=0&portrait=0\" frameborder=\"0\" allowfullscreen></iframe>')"
   ]
  },
  {
   "cell_type": "markdown",
   "metadata": {},
   "source": [
    "And if you have a youtube video, there's a special function for embedding it.  \n",
    "Credit to [Stack Overflow user Bakkal](https://stackoverflow.com/users/238639/bakkal) for [figuring this out](https://stackoverflow.com/questions/27315161/displaying-a-youtube-clip-in-python)"
   ]
  },
  {
   "cell_type": "code",
   "execution_count": null,
   "metadata": {},
   "outputs": [
    {
     "data": {
      "image/jpeg": "[encoded data removed]",
      "text/html": [
       "\n",
       "        <iframe\n",
       "            width=\"400\"\n",
       "            height=\"300\"\n",
       "            src=\"https://www.youtube.com/embed/XfoYk_Z5AkI\"\n",
       "            frameborder=\"0\"\n",
       "            allowfullscreen\n",
       "        ></iframe>\n",
       "        "
      ],
      "text/plain": [
       "<IPython.lib.display.YouTubeVideo at 0x1b76b883128>"
      ]
     },
     "execution_count": null,
     "metadata": {},
     "output_type": "execute_result"
    }
   ],
   "source": [
    "from IPython.display import YouTubeVideo\n",
    "# a talk about IPython at Sage Days at U. Washington, Seattle.\n",
    "# Video credit: William Stein.\n",
    "YouTubeVideo('XfoYk_Z5AkI')"
   ]
  },
  {
   "cell_type": "code",
   "execution_count": null,
   "metadata": {},
   "outputs": [],
   "source": []
  }
 ],
 "metadata": {
  "kernelspec": {
   "display_name": "Python 3",
   "language": "python",
   "name": "python3"
  }
 },
 "nbformat": 4,
 "nbformat_minor": 4
}
